{
 "cells": [
  {
   "cell_type": "code",
   "execution_count": null,
   "id": "acbef8a9",
   "metadata": {},
   "outputs": [],
   "source": [
    "#1 )List comprehensions:\n",
    "# (a) Generate positive list of numbers from a given list of integers\n",
    "# (b) Square of N numbers\n",
    "# (c) Form a list of vowels selected from a given word\n",
    "# (d) Form a list ordinal value of each element of a word (Hint: use ord() to get ordinal\n",
    "# values)"
   ]
  },
  {
   "cell_type": "code",
   "execution_count": 45,
   "id": "9d6000fc",
   "metadata": {},
   "outputs": [
    {
     "name": "stdout",
     "output_type": "stream",
     "text": [
      "[4, 5, 6]\n"
     ]
    }
   ],
   "source": [
    "a=[-1,-2,-3,4,5,6]\n",
    "positive=[x for x in a if x>0]\n",
    "print(positive)"
   ]
  },
  {
   "cell_type": "code",
   "execution_count": 49,
   "id": "6de6c3cc",
   "metadata": {},
   "outputs": [
    {
     "name": "stdout",
     "output_type": "stream",
     "text": [
      "[1, 4, 9, 16, 25]\n"
     ]
    }
   ],
   "source": [
    "a=[1,2,3,4,5]\n",
    "square=[x**2 for x in a]\n",
    "print(square)"
   ]
  },
  {
   "cell_type": "code",
   "execution_count": 50,
   "id": "c1e41c19",
   "metadata": {},
   "outputs": [
    {
     "name": "stdout",
     "output_type": "stream",
     "text": [
      "enter the string :arun\n",
      "['a', 'u']\n"
     ]
    }
   ],
   "source": [
    "s=input(\"enter the string :\")\n",
    "vowels=['a','e','i','o','u']\n",
    "new=[x for x in s if x in vowels]\n",
    "print(new)"
   ]
  },
  {
   "cell_type": "code",
   "execution_count": 53,
   "id": "1b32caec",
   "metadata": {},
   "outputs": [
    {
     "name": "stdout",
     "output_type": "stream",
     "text": [
      "Enter the string :arun\n",
      "[97, 114, 117, 110]\n"
     ]
    }
   ],
   "source": [
    "a=input(\"Enter the string :\")\n",
    "list=[ord(x) for x in a ]\n",
    "print(list)"
   ]
  },
  {
   "cell_type": "code",
   "execution_count": 1,
   "id": "a8162cdb",
   "metadata": {},
   "outputs": [
    {
     "name": "stdout",
     "output_type": "stream",
     "text": [
      "{1: 'arun', 2: 'male', 3: 'anu', 4: 'female'}\n"
     ]
    }
   ],
   "source": [
    "#2) Merge two dictionaries.\n",
    "\n",
    "a={1:'arun',2:'male'}\n",
    "b={3:'anu',4:'female'}\n",
    "a.update(b)\n",
    "print(a)\n"
   ]
  },
  {
   "cell_type": "code",
   "execution_count": 6,
   "id": "5d0a6e9b",
   "metadata": {},
   "outputs": [
    {
     "name": "stdout",
     "output_type": "stream",
     "text": [
      "Enter the number :5\n",
      "120\n"
     ]
    }
   ],
   "source": [
    "#3) to find factorial of a number\n",
    "\n",
    "n=int(input(\"Enter the number :\"))\n",
    "f=1\n",
    "while n>1:\n",
    "    f=f*n\n",
    "    n=n-1\n",
    "print(f)"
   ]
  },
  {
   "cell_type": "code",
   "execution_count": 2,
   "id": "92939a79",
   "metadata": {},
   "outputs": [
    {
     "name": "stdout",
     "output_type": "stream",
     "text": [
      "Enter the number :5\n",
      "120\n"
     ]
    }
   ],
   "source": [
    "n=int(input(\"Enter the number :\"))\n",
    "f=1\n",
    "for i in range(1,n+1):\n",
    "    f=f*i\n",
    "print(f)"
   ]
  },
  {
   "cell_type": "code",
   "execution_count": 23,
   "id": "945cce31",
   "metadata": {},
   "outputs": [
    {
     "name": "stdout",
     "output_type": "stream",
     "text": [
      "enter the limit :10\n",
      "0 1 1 2 3 5 8 13 21 34 "
     ]
    }
   ],
   "source": [
    "#4) to find fibannoci series\n",
    "#using while loop\n",
    "\n",
    "n=int(input(\"enter the limit :\"))\n",
    "n1=0\n",
    "n2=1\n",
    "print(n1,n2,end=\" \")\n",
    "while n>2:\n",
    "    n3=n1+n2\n",
    "    n1=n2\n",
    "    n2=n3\n",
    "    n=n-1\n",
    "    print(n3,end=\" \")"
   ]
  },
  {
   "cell_type": "code",
   "execution_count": 17,
   "id": "4b481fc7",
   "metadata": {},
   "outputs": [
    {
     "name": "stdout",
     "output_type": "stream",
     "text": [
      "enter the limit :10\n",
      "0 1 1 2 3 5 8 13 21 34 "
     ]
    }
   ],
   "source": [
    "#using for loop\n",
    "\n",
    "n=int(input(\"enter the limit :\"))\n",
    "n1=0\n",
    "n2=1\n",
    "print(n1,n2, end=\" \")\n",
    "for i in range(2,n):\n",
    "    n3=n1+n2\n",
    "    n1=n2\n",
    "    n2=n3\n",
    "    print(n3, end=\" \")"
   ]
  },
  {
   "cell_type": "code",
   "execution_count": 25,
   "id": "18d44d9d",
   "metadata": {},
   "outputs": [
    {
     "name": "stdout",
     "output_type": "stream",
     "text": [
      "15\n"
     ]
    }
   ],
   "source": [
    "#5 )sum of all items in a list using for loop\n",
    "\n",
    "a=[1,2,3,4,5]\n",
    "sum=0\n",
    "for i in a:\n",
    "    sum=sum+i\n",
    "print(sum)"
   ]
  },
  {
   "cell_type": "code",
   "execution_count": 29,
   "id": "db5d885f",
   "metadata": {},
   "outputs": [
    {
     "name": "stdout",
     "output_type": "stream",
     "text": [
      "4624\n",
      "6084\n",
      "6400\n",
      "8464\n"
     ]
    }
   ],
   "source": [
    "#6) generate a list of four digit numbers in a given range with all their digits even and the number is perfect square\n",
    "\n",
    "for i in range(1000,10000):\n",
    "    for j in range(32,100):\n",
    "        if (j*j)==i:\n",
    "            k=str(i)\n",
    "            if int(k[0])%2==0 and int(k[1])%2==0 and int(k[2])%2==0 and int(k[3])%2==0:\n",
    "                print(i)"
   ]
  },
  {
   "cell_type": "code",
   "execution_count": 30,
   "id": "a8e5487d",
   "metadata": {},
   "outputs": [
    {
     "name": "stdout",
     "output_type": "stream",
     "text": [
      "132234\n",
      "2\n",
      "2\n",
      "4\n"
     ]
    }
   ],
   "source": [
    "n=132234\n",
    "a=str(n) \n",
    "print(a)\n",
    "for i in a:\n",
    "    if int(i)%2==0:\n",
    "        print(i)"
   ]
  },
  {
   "cell_type": "code",
   "execution_count": 21,
   "id": "133eb02e",
   "metadata": {},
   "outputs": [
    {
     "name": "stdout",
     "output_type": "stream",
     "text": [
      "4\n"
     ]
    }
   ],
   "source": [
    "n=154\n",
    "i=n%10\n",
    "print(i)"
   ]
  },
  {
   "cell_type": "code",
   "execution_count": 1,
   "id": "c4986692",
   "metadata": {},
   "outputs": [
    {
     "name": "stdout",
     "output_type": "stream",
     "text": [
      "Enter the number :5\n",
      " 1 * 5 = 5\n",
      " 2 * 5 = 10\n",
      " 3 * 5 = 15\n",
      " 4 * 5 = 20\n",
      " 5 * 5 = 25\n",
      " 6 * 5 = 30\n",
      " 7 * 5 = 35\n",
      " 8 * 5 = 40\n",
      " 9 * 5 = 45\n",
      "10 * 5 = 50\n"
     ]
    }
   ],
   "source": [
    "#7) write a program using a for loop to print the multiplication table of n, where n is entered by the user\n",
    "\n",
    "n=int(input(\"Enter the number :\"))\n",
    "for i in range(1,11):\n",
    "    print(\"{:2d}\".format(i),\"*\" , n ,\"=\" ,i*n)"
   ]
  },
  {
   "cell_type": "code",
   "execution_count": 7,
   "id": "74985f38",
   "metadata": {},
   "outputs": [
    {
     "name": "stdout",
     "output_type": "stream",
     "text": [
      "Enter the number of stpe :4\n",
      "1 \n",
      "2 4 \n",
      "3 6 9 \n",
      "4 8 12 16 \n"
     ]
    }
   ],
   "source": [
    "#8) display the given pyramid with the step number accepted from the user, E.g, N=4\n",
    "# 1\n",
    "# 2 4\n",
    "# 3 6 9\n",
    "# 4 8 12 16\n",
    "\n",
    "n=int(input(\"Enter the number of stpe :\"))\n",
    "for i in range(1,n+1):\n",
    "    for j in range(1,i+1):\n",
    "        print(i*j,end=' ')\n",
    "    print()"
   ]
  },
  {
   "cell_type": "code",
   "execution_count": 13,
   "id": "74805177",
   "metadata": {},
   "outputs": [
    {
     "name": "stdout",
     "output_type": "stream",
     "text": [
      "Enter the number :102\n",
      "reversed num : 201\n"
     ]
    }
   ],
   "source": [
    "#9) write a program to print the reverse of a number [use while loop]\n",
    "\n",
    "n=int(input(\"Enter the number :\"))\n",
    "rev=0\n",
    "while n>0:\n",
    "    last_digit=n%10\n",
    "    rev=rev*10+last_digit\n",
    "    n=n//10\n",
    "print(\"reversed num :\", rev)"
   ]
  },
  {
   "cell_type": "code",
   "execution_count": 10,
   "id": "79ed7240",
   "metadata": {},
   "outputs": [
    {
     "name": "stdout",
     "output_type": "stream",
     "text": [
      "4\n",
      "123\n"
     ]
    }
   ],
   "source": [
    "n=1234\n",
    "a=n%10\n",
    "b=n//10\n",
    "print(a)\n",
    "print(b)"
   ]
  },
  {
   "cell_type": "code",
   "execution_count": 14,
   "id": "cf00db54",
   "metadata": {},
   "outputs": [
    {
     "name": "stdout",
     "output_type": "stream",
     "text": [
      "[1, 2, 5, 7, 10]\n",
      "{5: 1, 1: 2, 3: 5, 2: 7, 4: 10}\n"
     ]
    }
   ],
   "source": [
    "#10)  Sort dictionary in ascending and descending order.\n",
    "\n",
    "a={1:2,2:7,3:5,4:10,5:1}\n",
    "res={}\n",
    "sa=sorted(a.values())\n",
    "print(sa)\n",
    "for i in sa:\n",
    "    for k in a.keys():\n",
    "        if a[k]==i:\n",
    "            res[k]=a[k]\n",
    "print(res)    "
   ]
  },
  {
   "cell_type": "code",
   "execution_count": 55,
   "id": "127bfc8b",
   "metadata": {},
   "outputs": [
    {
     "name": "stdout",
     "output_type": "stream",
     "text": [
      "[10, 7, 5, 2, 1]\n",
      "{4: 10, 2: 7, 3: 5, 1: 2, 5: 1}\n"
     ]
    }
   ],
   "source": [
    "a={1:2,2:7,3:5,4:10,5:1}\n",
    "res={}\n",
    "sa=sorted(a.values(),reverse=True)\n",
    "#sa.reverse()\n",
    "print(sa)\n",
    "for i in sa:\n",
    "    for k in a.keys():\n",
    "        if a[k]==i:\n",
    "            res[k]=a[k]\n",
    "print(res)    "
   ]
  },
  {
   "cell_type": "code",
   "execution_count": 39,
   "id": "730b760f",
   "metadata": {},
   "outputs": [
    {
     "name": "stdout",
     "output_type": "stream",
     "text": [
      "Enter a number :3\n",
      "3\n",
      "1\n"
     ]
    }
   ],
   "source": [
    "#11) write a program to generate all factors of a number [use while loop]\n",
    "\n",
    "n=int(input(\"Enter a number :\"))\n",
    "i=n\n",
    "while i>0:\n",
    "    if (n%i)==0:\n",
    "        print(i)\n",
    "    i=i-1"
   ]
  },
  {
   "cell_type": "code",
   "execution_count": 9,
   "id": "b8d29755",
   "metadata": {},
   "outputs": [
    {
     "name": "stdout",
     "output_type": "stream",
     "text": [
      "enter the number :153\n",
      "the number is armstrong\n"
     ]
    }
   ],
   "source": [
    "#12) write a program to find whether the given number is an armstrong number or not [use while loop]\n",
    "\n",
    "n=int(input(\"enter the number :\"))\n",
    "sum=0\n",
    "k=n\n",
    "while k>0:\n",
    "    digit=k%10\n",
    "    sum+=digit ** 3\n",
    "    k//=10\n",
    "if sum==n:\n",
    "    print(\"the number is armstrong\")\n",
    "else:\n",
    "    print(\"the number is not armstrong\")\n"
   ]
  },
  {
   "cell_type": "code",
   "execution_count": 24,
   "id": "bcb87963",
   "metadata": {},
   "outputs": [
    {
     "name": "stdout",
     "output_type": "stream",
     "text": [
      "5\n",
      "7865\n"
     ]
    }
   ],
   "source": [
    "n=78655\n",
    "a=n%10\n",
    "b=n//10\n",
    "print(a)\n",
    "print(b)"
   ]
  },
  {
   "cell_type": "code",
   "execution_count": null,
   "id": "027504e0",
   "metadata": {},
   "outputs": [],
   "source": [
    "#13) construct following pattern using nested loop:\n",
    "# *\n",
    "# * *\n",
    "# * * *\n",
    "# * * * *\n",
    "# * * * * *\n",
    "# * * * *\n",
    "# * * *\n",
    "# * *\n",
    "# *"
   ]
  },
  {
   "cell_type": "code",
   "execution_count": 32,
   "id": "16087c4a",
   "metadata": {},
   "outputs": [
    {
     "name": "stdout",
     "output_type": "stream",
     "text": [
      "Enter the number of stpe :5\n",
      "* \n",
      "* * \n",
      "* * * \n",
      "* * * * \n",
      "* * * * * \n",
      "* * * * \n",
      "* * * \n",
      "* * \n",
      "* \n",
      "\n",
      "\n"
     ]
    }
   ],
   "source": [
    "n=int(input(\"Enter the number of stpe :\"))\n",
    "for i in range(1,n+1):\n",
    "    for j in range(1,i+1):\n",
    "        print(\"*\",end=' ')\n",
    "    print()\n",
    "for x in range(n+1,0,-1):\n",
    "    for y in range(1,x-1):\n",
    "        print(\"*\",end=' ')\n",
    "    print()"
   ]
  },
  {
   "cell_type": "code",
   "execution_count": null,
   "id": "28bdece1",
   "metadata": {},
   "outputs": [],
   "source": []
  }
 ],
 "metadata": {
  "kernelspec": {
   "display_name": "Python 3 (ipykernel)",
   "language": "python",
   "name": "python3"
  },
  "language_info": {
   "codemirror_mode": {
    "name": "ipython",
    "version": 3
   },
   "file_extension": ".py",
   "mimetype": "text/x-python",
   "name": "python",
   "nbconvert_exporter": "python",
   "pygments_lexer": "ipython3",
   "version": "3.9.13"
  }
 },
 "nbformat": 4,
 "nbformat_minor": 5
}
