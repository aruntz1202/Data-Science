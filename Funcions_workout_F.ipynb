{
 "cells": [
  {
   "cell_type": "code",
   "execution_count": 2,
   "id": "9a48acb9",
   "metadata": {},
   "outputs": [
    {
     "name": "stdout",
     "output_type": "stream",
     "text": [
      "15\n",
      "25\n",
      "45\n"
     ]
    }
   ],
   "source": [
    "def my_function(x):\n",
    "      return 5 * x\n",
    "\n",
    "print(my_function(3))\n",
    "print(my_function(5))\n",
    "print(my_function(9))"
   ]
  },
  {
   "cell_type": "code",
   "execution_count": 26,
   "id": "a765ccd6",
   "metadata": {},
   "outputs": [
    {
     "name": "stdout",
     "output_type": "stream",
     "text": [
      "Enter number 1 :76\n",
      "Enter number 2 :56\n",
      "Enter the number 3 :34\n",
      "76 is biggest\n"
     ]
    }
   ],
   "source": [
    "#Find biggest of 3 numbers entered.\n",
    "a=int(input(\"Enter number 1 :\"))\n",
    "b=int(input(\"Enter number 2 :\"))\n",
    "c=int(input(\"Enter the number 3 :\"))\n",
    "\n",
    "def biggest(a,b,c):\n",
    "    if a>b>c:\n",
    "        print(a ,\"is biggest\")\n",
    "    elif b>a>c:\n",
    "        print(b ,\"is biggest\")\n",
    "    else:\n",
    "        print(c ,\"is biggest\")\n",
    "biggest(a,b,c)  "
   ]
  },
  {
   "cell_type": "code",
   "execution_count": 7,
   "id": "a8ee3f44",
   "metadata": {},
   "outputs": [
    {
     "name": "stdout",
     "output_type": "stream",
     "text": [
      "5\n",
      "60\n",
      "615\n"
     ]
    }
   ],
   "source": [
    "#Accept an integer n and compute n+nn+nnn.\n",
    "\n",
    "# [Hint : n = 5, then compute 5 + 55 + 555]\n",
    "\n",
    "\n",
    "def sum1(n):\n",
    "    #n=int(input(\"Enter the number :\"))\n",
    "    s=0\n",
    "    for i in range(1,4):\n",
    "        s=s+int(str(n)*i)\n",
    "        print(s)\n",
    "sum1(5)\n"
   ]
  },
  {
   "cell_type": "code",
   "execution_count": 11,
   "id": "7fc625eb",
   "metadata": {},
   "outputs": [
    {
     "name": "stdout",
     "output_type": "stream",
     "text": [
      "Enter the string :python\n",
      "nythop\n"
     ]
    }
   ],
   "source": [
    "#Create a string from the given string where the first and last character are exchanged.\n",
    "# Eg: Python ⇒ nythoP\n",
    "\n",
    "def string():\n",
    "    s=str(input(\"Enter the string :\"))\n",
    "    print(s[-1]+s[1:-1]+s[0])\n",
    "string()"
   ]
  },
  {
   "cell_type": "code",
   "execution_count": 16,
   "id": "898d8d25",
   "metadata": {},
   "outputs": [
    {
     "name": "stdout",
     "output_type": "stream",
     "text": [
      "occurance of a : 6\n"
     ]
    }
   ],
   "source": [
    "def occ(a):\n",
    "    a=['arun','arjun','manu','aarav']\n",
    "    count=0\n",
    "    for i in a:\n",
    "        for j in i:\n",
    "            if 'a' in j:\n",
    "                count=count+1\n",
    "    print(\"occurance of a :\" ,count)\n",
    "occ(a)"
   ]
  },
  {
   "cell_type": "code",
   "execution_count": 21,
   "id": "e660a293",
   "metadata": {},
   "outputs": [
    {
     "name": "stdout",
     "output_type": "stream",
     "text": [
      "occurance of a : 6\n"
     ]
    }
   ],
   "source": [
    "def occ(*a):\n",
    "    count=0\n",
    "    for i in a:\n",
    "        for j in i:\n",
    "            if 'a' in j:\n",
    "                count=count+1\n",
    "    print(\"occurance of a :\" ,count)\n",
    "occ('arun','arjun','manu','aarav')"
   ]
  },
  {
   "cell_type": "code",
   "execution_count": 28,
   "id": "8e84d1c5",
   "metadata": {},
   "outputs": [
    {
     "name": "stdout",
     "output_type": "stream",
     "text": [
      "same length\n",
      "sum is different\n",
      "4\n",
      "5\n"
     ]
    }
   ],
   "source": [
    "#6)Write a program to prompt the user to enter two lists of integers and check\n",
    "# (a) Whether lists are of the same length.\n",
    "# (b) Whether the list sums to the same value.\n",
    "# (c) Whether any value occurs in both Lists.\n",
    "\n",
    "def func():\n",
    "    a=[1,2,3,4,5]\n",
    "    b=[4,5,6,7,8]\n",
    "    if (len(a)==len(b)):\n",
    "        print(\"same length\")\n",
    "    else:\n",
    "        print(\"not same length\")\n",
    "\n",
    "    \n",
    "    if (sum(a)==sum(b)):\n",
    "        print(\"sum is same\")\n",
    "    else:\n",
    "        print(\"sum is different\")\n",
    "    \n",
    "    for i in a:\n",
    "        if i in b:\n",
    "            print(i)\n",
    "        \n",
    "func()"
   ]
  },
  {
   "cell_type": "code",
   "execution_count": 29,
   "id": "39869cb5",
   "metadata": {},
   "outputs": [
    {
     "name": "stdout",
     "output_type": "stream",
     "text": [
      "28.259999999999998\n"
     ]
    }
   ],
   "source": [
    "#lambda function\n",
    "\n",
    "#area of circle\n",
    "\n",
    "area=lambda a: 3.14*a*a\n",
    "print(area(3))"
   ]
  },
  {
   "cell_type": "code",
   "execution_count": 35,
   "id": "61c8f69f",
   "metadata": {},
   "outputs": [
    {
     "name": "stdout",
     "output_type": "stream",
     "text": [
      "The factorial of 5 is 120\n"
     ]
    }
   ],
   "source": [
    "def factorial(x):\n",
    "    \"\"\"This is a recursive function\n",
    "    to find the factorial of an integer\"\"\"\n",
    "\n",
    "    if x == 1:\n",
    "        return 1\n",
    "    else:\n",
    "        return (x * factorial(x-1))\n",
    "\n",
    "\n",
    "num = 5\n",
    "print(\"The factorial of\", num, \"is\", factorial(num))"
   ]
  },
  {
   "cell_type": "code",
   "execution_count": 32,
   "id": "80a63fa7",
   "metadata": {},
   "outputs": [
    {
     "name": "stdout",
     "output_type": "stream",
     "text": [
      "num :5\n",
      "120\n"
     ]
    }
   ],
   "source": [
    "n=int(input(\"num :\"))\n",
    "f=factorial(n)\n",
    "print(f)"
   ]
  },
  {
   "cell_type": "code",
   "execution_count": null,
   "id": "03cc8313",
   "metadata": {},
   "outputs": [],
   "source": []
  }
 ],
 "metadata": {
  "kernelspec": {
   "display_name": "Python 3 (ipykernel)",
   "language": "python",
   "name": "python3"
  },
  "language_info": {
   "codemirror_mode": {
    "name": "ipython",
    "version": 3
   },
   "file_extension": ".py",
   "mimetype": "text/x-python",
   "name": "python",
   "nbconvert_exporter": "python",
   "pygments_lexer": "ipython3",
   "version": "3.9.13"
  }
 },
 "nbformat": 4,
 "nbformat_minor": 5
}
