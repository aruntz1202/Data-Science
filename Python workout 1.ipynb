{
 "cells": [
  {
   "cell_type": "code",
   "execution_count": 46,
   "id": "c197be75",
   "metadata": {},
   "outputs": [
    {
     "name": "stdout",
     "output_type": "stream",
     "text": [
      "Enter number 1 :38\n",
      "Enter number 2 :48\n",
      "Enter the number 3 :59\n",
      "59 is biggest\n"
     ]
    }
   ],
   "source": [
    "#1) Find biggest of 3 numbers entered.\n",
    "a=int(input(\"Enter number 1 :\"))\n",
    "b=int(input(\"Enter number 2 :\"))\n",
    "c=int(input(\"Enter the number 3 :\"))\n",
    "if a>b>c:\n",
    "    print(a ,\"is biggest\")\n",
    "elif b>a>c:\n",
    "    print(b ,\"is biggest\")\n",
    "else:\n",
    "    print(c ,\"is biggest\")\n",
    "    \n",
    "    "
   ]
  },
  {
   "cell_type": "code",
   "execution_count": 11,
   "id": "729d6e5e",
   "metadata": {},
   "outputs": [
    {
     "name": "stdout",
     "output_type": "stream",
     "text": [
      "Enter the number :5\n",
      "5\n",
      "60\n",
      "615\n"
     ]
    }
   ],
   "source": [
    "#2) Accept an integer n and compute n+nn+nnn.\n",
    "\n",
    "# [Hint : n = 5, then compute 5 + 55 + 555]\n",
    "\n",
    "n=int(input(\"Enter the number :\"))\n",
    "s=0\n",
    "for i in range(1,4):\n",
    "    s=s+int(str(n)*i)\n",
    "    print(s)\n",
    "#print(s)"
   ]
  },
  {
   "cell_type": "code",
   "execution_count": 18,
   "id": "c7e293f0",
   "metadata": {},
   "outputs": [
    {
     "name": "stdout",
     "output_type": "stream",
     "text": [
      "Enter the string :arun\n",
      "nrua\n"
     ]
    }
   ],
   "source": [
    "#3)Create a string from the given string where the first and last character are exchanged.\n",
    "# Eg: Python ⇒ nythoP\n",
    "s=str(input(\"Enter the string :\"))\n",
    "print(s[-1]+s[1:-1]+s[0])"
   ]
  },
  {
   "cell_type": "code",
   "execution_count": 27,
   "id": "daf8af27",
   "metadata": {},
   "outputs": [
    {
     "name": "stdout",
     "output_type": "stream",
     "text": [
      "enter the number of items :5\n",
      "['over', 72, 76, 'over', 'over']\n"
     ]
    }
   ],
   "source": [
    "#4)Write a program to prompt the user for a list of integers. For all values greater than 100,\n",
    "# store ‘over’ instead.\n",
    "import random\n",
    "a=int(input(\"enter the number of items :\"))\n",
    "list=[]\n",
    "for i in range(0,a):\n",
    "    list.append(random.randint(50,150))\n",
    "    if list[i]>100:\n",
    "        list[i]='over'\n",
    "print(list)"
   ]
  },
  {
   "cell_type": "code",
   "execution_count": 29,
   "id": "34241d65",
   "metadata": {},
   "outputs": [
    {
     "name": "stdout",
     "output_type": "stream",
     "text": [
      "enter the number of items :5\n",
      "enter the number :10\n",
      "enter the number :20\n",
      "enter the number :150\n",
      "enter the number :30\n",
      "enter the number :120\n",
      "[10, 20, 'over', 30, 'over']\n"
     ]
    }
   ],
   "source": [
    "a=int(input(\"enter the number of items :\"))\n",
    "list=[]\n",
    "for i in range(0,a):\n",
    "    n=int(input(\"enter the number :\"))\n",
    "    if n<=100:\n",
    "        list.append(n)\n",
    "    else:\n",
    "        list.append(\"over\")\n",
    "print(list)"
   ]
  },
  {
   "cell_type": "code",
   "execution_count": 38,
   "id": "7e367081",
   "metadata": {},
   "outputs": [
    {
     "name": "stdout",
     "output_type": "stream",
     "text": [
      "occurance of a : 6\n"
     ]
    }
   ],
   "source": [
    "#5)Store a list of first names. Count the occurrences of ‘a’ within the list.\n",
    "a=['arun','arjun','manu','aarav']\n",
    "count=0\n",
    "for i in a:\n",
    "    for j in i:\n",
    "        if 'a' in j:\n",
    "            count=count+1\n",
    "print(\"occurance of a :\" ,count)"
   ]
  },
  {
   "cell_type": "code",
   "execution_count": 45,
   "id": "9a4ac8a7",
   "metadata": {},
   "outputs": [
    {
     "name": "stdout",
     "output_type": "stream",
     "text": [
      "same length\n",
      "sum is different\n",
      "4\n",
      "5\n"
     ]
    }
   ],
   "source": [
    "#6)Write a program to prompt the user to enter two lists of integers and check\n",
    "# (a) Whether lists are of the same length.\n",
    "# (b) Whether the list sums to the same value.\n",
    "# (c) Whether any value occurs in both Lists.\n",
    "\n",
    "a=[1,2,3,4,5]\n",
    "b=[4,5,6,7,8]\n",
    "if (len(a)==len(b)):\n",
    "    print(\"same length\")\n",
    "else:\n",
    "    print(\"not same length\")\n",
    "\n",
    "    \n",
    "if (sum(a)==sum(b)):\n",
    "    print(\"sum is same\")\n",
    "else:\n",
    "    print(\"sum is different\")\n",
    "    \n",
    "for i in a:\n",
    "    if i in b:\n",
    "        print(i)"
   ]
  },
  {
   "cell_type": "code",
   "execution_count": null,
   "id": "dd29f0c0",
   "metadata": {},
   "outputs": [],
   "source": [
    "#7)Write a Python program to count the occurrences of each word in a line of text.\n",
    "# Hint: use split() function and dictionary\n",
    "# Sample input : the quick brown fox jumps over the lazy dog\n",
    "# Output : {'the': 2, 'jumps': 1, 'brown': 1, 'lazy': 1, 'fox': 1, 'over': 1, 'quick': 1, 'dog.': 1}\n",
    "\n",
    "s=str(input(\"Enter the string :\"))\n",
    "count=0\n"
   ]
  },
  {
   "cell_type": "code",
   "execution_count": 56,
   "id": "789d65e7",
   "metadata": {},
   "outputs": [
    {
     "name": "stdout",
     "output_type": "stream",
     "text": [
      "Enter the string :onion\n",
      "oni$n\n"
     ]
    }
   ],
   "source": [
    "#8)Get a string from an input string where all occurrences of the first character are replaced\n",
    "#with ‘$’, except the first character. [eg: onion -> oni$n]\n",
    "\n",
    "\n",
    "s=str(input(\"Enter the string :\"))\n",
    "char=s[0]\n",
    "s2=s.replace(char,'$')\n",
    "s3=char+s2[1:]\n",
    "print(s3)"
   ]
  },
  {
   "cell_type": "code",
   "execution_count": 54,
   "id": "42906da2",
   "metadata": {},
   "outputs": [
    {
     "name": "stdout",
     "output_type": "stream",
     "text": [
      "Hello World\n"
     ]
    }
   ],
   "source": [
    "#9)Create a single string separated with space from two strings by swapping the character\n",
    "# at position 1.\n",
    "# Eg : str1 = “Hello” str2 =”World” , then create a string str3 = “Hollo World” [Hint: use\n",
    "# slicing and concatenation ]\n",
    "\n",
    "str1=\"Hello\"\n",
    "str2=\"World\"\n",
    "str3=str1+\" \"+str2\n",
    "print(str3)"
   ]
  },
  {
   "cell_type": "code",
   "execution_count": 55,
   "id": "314cc7f3",
   "metadata": {},
   "outputs": [
    {
     "name": "stdout",
     "output_type": "stream",
     "text": [
      "red\n",
      "black\n"
     ]
    }
   ],
   "source": [
    "#10)Write a python program to read two lists color-list1 and color-list2. Print out all colors\n",
    "# from color-list1 not contained in color-list2.\n",
    "\n",
    "list1=['red','blue','black','white']\n",
    "list2=['pink','blue','green','white']\n",
    "for i in list1:\n",
    "    if i not in list2:\n",
    "        print(i)"
   ]
  },
  {
   "cell_type": "code",
   "execution_count": 74,
   "id": "caed462f",
   "metadata": {},
   "outputs": [
    {
     "name": "stdout",
     "output_type": "stream",
     "text": [
      "red white\n"
     ]
    }
   ],
   "source": [
    "#11)Create a list of colors from comma-separated color names entered by the user. Display\n",
    "# first and last colors.\n",
    "\n",
    "list1=['red','blue','black','white']\n",
    "print(list1[0],list1[-1])"
   ]
  },
  {
   "cell_type": "code",
   "execution_count": 76,
   "id": "d35ba698",
   "metadata": {},
   "outputs": [
    {
     "name": "stdout",
     "output_type": "stream",
     "text": [
      "[1, 3, 5, 7, 9]\n"
     ]
    }
   ],
   "source": [
    "#12)From a list of integers, create a list after removing even numbers.\n",
    "\n",
    "a=[1,2,3,4,5,6,7,8,9,10]\n",
    "b=[]\n",
    "for i in a:\n",
    "    if i%2!=0:\n",
    "        b.append(i)\n",
    "print(b)"
   ]
  },
  {
   "cell_type": "code",
   "execution_count": 85,
   "id": "c6e16ab0",
   "metadata": {},
   "outputs": [
    {
     "name": "stdout",
     "output_type": "stream",
     "text": [
      "enter the string :arun\n",
      "4\n"
     ]
    }
   ],
   "source": [
    "#13)Count the number of characters (character frequency) in a string.\n",
    "\n",
    "a=input(\"enter the string :\")\n",
    "count=0\n",
    "for i in a:\n",
    "    count=count+1\n",
    "print(count)\n",
    "    "
   ]
  },
  {
   "cell_type": "code",
   "execution_count": 93,
   "id": "ef174e08",
   "metadata": {},
   "outputs": [
    {
     "name": "stdout",
     "output_type": "stream",
     "text": [
      "enter the string :read\n",
      "reading\n"
     ]
    }
   ],
   "source": [
    "#14)Add ‘ing’ at the end of a given string. If it already ends with ‘ing’, then add ‘ly’\n",
    "\n",
    "s=input(\"enter the string :\")\n",
    "last=s[-3::]\n",
    "if (last=='ing'):\n",
    "    s=s+'ly'\n",
    "else:\n",
    "    s=s+'ing'\n",
    "print(s)"
   ]
  },
  {
   "cell_type": "code",
   "execution_count": 84,
   "id": "3aed389c",
   "metadata": {},
   "outputs": [
    {
     "name": "stdout",
     "output_type": "stream",
     "text": [
      "[3, 4, 5, 4, 6]\n",
      "length of longest word : 6\n"
     ]
    }
   ],
   "source": [
    "#15)Accept a list of words and return the length of the longest word.\n",
    "\n",
    "list1=['red','blue','black','pink','indigo']\n",
    "l=[]\n",
    "for i in list1:\n",
    "    l.append(len(i))\n",
    "print(l)\n",
    "print(\"length of longest word :\" ,max(l))"
   ]
  },
  {
   "cell_type": "code",
   "execution_count": null,
   "id": "78568a2b",
   "metadata": {},
   "outputs": [],
   "source": []
  }
 ],
 "metadata": {
  "kernelspec": {
   "display_name": "Python 3 (ipykernel)",
   "language": "python",
   "name": "python3"
  },
  "language_info": {
   "codemirror_mode": {
    "name": "ipython",
    "version": 3
   },
   "file_extension": ".py",
   "mimetype": "text/x-python",
   "name": "python",
   "nbconvert_exporter": "python",
   "pygments_lexer": "ipython3",
   "version": "3.9.13"
  }
 },
 "nbformat": 4,
 "nbformat_minor": 5
}
