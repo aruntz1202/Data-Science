{
 "cells": [
  {
   "cell_type": "code",
   "execution_count": 2,
   "id": "3b9f090f",
   "metadata": {},
   "outputs": [],
   "source": [
    "import numpy as np\n",
    "import pandas as pd\n",
    "from sklearn.tree import DecisionTreeClassifier as DTC\n",
    "from sklearn.model_selection import train_test_split\n",
    "from sklearn.metrics import confusion_matrix\n",
    "from sklearn import preprocessing"
   ]
  },
  {
   "cell_type": "code",
   "execution_count": 3,
   "id": "f0b3e49f",
   "metadata": {},
   "outputs": [],
   "source": [
    "ds=pd.read_csv(r\"C:\\Users\\arunf\\OneDrive\\Documents\\Data Science\\Machine Learning\\DataSet\\Star3642_balanced.csv\")"
   ]
  },
  {
   "cell_type": "code",
   "execution_count": 4,
   "id": "ff8c5d20",
   "metadata": {},
   "outputs": [
    {
     "data": {
      "text/html": [
       "<div>\n",
       "<style scoped>\n",
       "    .dataframe tbody tr th:only-of-type {\n",
       "        vertical-align: middle;\n",
       "    }\n",
       "\n",
       "    .dataframe tbody tr th {\n",
       "        vertical-align: top;\n",
       "    }\n",
       "\n",
       "    .dataframe thead th {\n",
       "        text-align: right;\n",
       "    }\n",
       "</style>\n",
       "<table border=\"1\" class=\"dataframe\">\n",
       "  <thead>\n",
       "    <tr style=\"text-align: right;\">\n",
       "      <th></th>\n",
       "      <th>Vmag</th>\n",
       "      <th>Plx</th>\n",
       "      <th>e_Plx</th>\n",
       "      <th>B-V</th>\n",
       "      <th>SpType</th>\n",
       "      <th>Amag</th>\n",
       "      <th>TargetClass</th>\n",
       "    </tr>\n",
       "  </thead>\n",
       "  <tbody>\n",
       "    <tr>\n",
       "      <th>0</th>\n",
       "      <td>5.99</td>\n",
       "      <td>13.73</td>\n",
       "      <td>0.58</td>\n",
       "      <td>1.318</td>\n",
       "      <td>K5III</td>\n",
       "      <td>16.678352</td>\n",
       "      <td>0</td>\n",
       "    </tr>\n",
       "    <tr>\n",
       "      <th>1</th>\n",
       "      <td>8.70</td>\n",
       "      <td>2.31</td>\n",
       "      <td>1.29</td>\n",
       "      <td>-0.045</td>\n",
       "      <td>B1II</td>\n",
       "      <td>15.518060</td>\n",
       "      <td>0</td>\n",
       "    </tr>\n",
       "    <tr>\n",
       "      <th>2</th>\n",
       "      <td>5.77</td>\n",
       "      <td>5.50</td>\n",
       "      <td>1.03</td>\n",
       "      <td>0.855</td>\n",
       "      <td>G5III</td>\n",
       "      <td>14.471813</td>\n",
       "      <td>0</td>\n",
       "    </tr>\n",
       "    <tr>\n",
       "      <th>3</th>\n",
       "      <td>6.72</td>\n",
       "      <td>5.26</td>\n",
       "      <td>0.74</td>\n",
       "      <td>-0.015</td>\n",
       "      <td>B7V</td>\n",
       "      <td>15.324928</td>\n",
       "      <td>1</td>\n",
       "    </tr>\n",
       "    <tr>\n",
       "      <th>4</th>\n",
       "      <td>8.76</td>\n",
       "      <td>13.44</td>\n",
       "      <td>1.16</td>\n",
       "      <td>0.584</td>\n",
       "      <td>G0V</td>\n",
       "      <td>19.401997</td>\n",
       "      <td>1</td>\n",
       "    </tr>\n",
       "    <tr>\n",
       "      <th>...</th>\n",
       "      <td>...</td>\n",
       "      <td>...</td>\n",
       "      <td>...</td>\n",
       "      <td>...</td>\n",
       "      <td>...</td>\n",
       "      <td>...</td>\n",
       "      <td>...</td>\n",
       "    </tr>\n",
       "    <tr>\n",
       "      <th>3637</th>\n",
       "      <td>7.29</td>\n",
       "      <td>3.26</td>\n",
       "      <td>0.95</td>\n",
       "      <td>1.786</td>\n",
       "      <td>K4III</td>\n",
       "      <td>14.856089</td>\n",
       "      <td>0</td>\n",
       "    </tr>\n",
       "    <tr>\n",
       "      <th>3638</th>\n",
       "      <td>8.29</td>\n",
       "      <td>6.38</td>\n",
       "      <td>1.00</td>\n",
       "      <td>0.408</td>\n",
       "      <td>F2IV/V</td>\n",
       "      <td>17.314104</td>\n",
       "      <td>1</td>\n",
       "    </tr>\n",
       "    <tr>\n",
       "      <th>3639</th>\n",
       "      <td>6.11</td>\n",
       "      <td>2.42</td>\n",
       "      <td>0.79</td>\n",
       "      <td>1.664</td>\n",
       "      <td>M0/M1IIICNp</td>\n",
       "      <td>13.029078</td>\n",
       "      <td>0</td>\n",
       "    </tr>\n",
       "    <tr>\n",
       "      <th>3640</th>\n",
       "      <td>7.94</td>\n",
       "      <td>4.94</td>\n",
       "      <td>2.90</td>\n",
       "      <td>0.210</td>\n",
       "      <td>A5V</td>\n",
       "      <td>16.408636</td>\n",
       "      <td>1</td>\n",
       "    </tr>\n",
       "    <tr>\n",
       "      <th>3641</th>\n",
       "      <td>8.81</td>\n",
       "      <td>1.87</td>\n",
       "      <td>1.23</td>\n",
       "      <td>1.176</td>\n",
       "      <td>K1/K2III</td>\n",
       "      <td>15.169209</td>\n",
       "      <td>0</td>\n",
       "    </tr>\n",
       "  </tbody>\n",
       "</table>\n",
       "<p>3642 rows × 7 columns</p>\n",
       "</div>"
      ],
      "text/plain": [
       "      Vmag    Plx  e_Plx    B-V       SpType       Amag  TargetClass\n",
       "0     5.99  13.73   0.58  1.318        K5III  16.678352            0\n",
       "1     8.70   2.31   1.29 -0.045         B1II  15.518060            0\n",
       "2     5.77   5.50   1.03  0.855        G5III  14.471813            0\n",
       "3     6.72   5.26   0.74 -0.015          B7V  15.324928            1\n",
       "4     8.76  13.44   1.16  0.584          G0V  19.401997            1\n",
       "...    ...    ...    ...    ...          ...        ...          ...\n",
       "3637  7.29   3.26   0.95  1.786        K4III  14.856089            0\n",
       "3638  8.29   6.38   1.00  0.408       F2IV/V  17.314104            1\n",
       "3639  6.11   2.42   0.79  1.664  M0/M1IIICNp  13.029078            0\n",
       "3640  7.94   4.94   2.90  0.210          A5V  16.408636            1\n",
       "3641  8.81   1.87   1.23  1.176     K1/K2III  15.169209            0\n",
       "\n",
       "[3642 rows x 7 columns]"
      ]
     },
     "execution_count": 4,
     "metadata": {},
     "output_type": "execute_result"
    }
   ],
   "source": [
    "ds"
   ]
  },
  {
   "cell_type": "code",
   "execution_count": 5,
   "id": "c85bd3d5",
   "metadata": {},
   "outputs": [],
   "source": [
    "le=preprocessing.LabelEncoder()"
   ]
  },
  {
   "cell_type": "code",
   "execution_count": 6,
   "id": "29445725",
   "metadata": {},
   "outputs": [],
   "source": [
    "ds['SpType']=le.fit_transform(ds['SpType'].astype(str))"
   ]
  },
  {
   "cell_type": "code",
   "execution_count": 7,
   "id": "0a980c19",
   "metadata": {},
   "outputs": [
    {
     "data": {
      "text/html": [
       "<div>\n",
       "<style scoped>\n",
       "    .dataframe tbody tr th:only-of-type {\n",
       "        vertical-align: middle;\n",
       "    }\n",
       "\n",
       "    .dataframe tbody tr th {\n",
       "        vertical-align: top;\n",
       "    }\n",
       "\n",
       "    .dataframe thead th {\n",
       "        text-align: right;\n",
       "    }\n",
       "</style>\n",
       "<table border=\"1\" class=\"dataframe\">\n",
       "  <thead>\n",
       "    <tr style=\"text-align: right;\">\n",
       "      <th></th>\n",
       "      <th>Vmag</th>\n",
       "      <th>Plx</th>\n",
       "      <th>e_Plx</th>\n",
       "      <th>B-V</th>\n",
       "      <th>SpType</th>\n",
       "      <th>Amag</th>\n",
       "      <th>TargetClass</th>\n",
       "    </tr>\n",
       "  </thead>\n",
       "  <tbody>\n",
       "    <tr>\n",
       "      <th>0</th>\n",
       "      <td>5.99</td>\n",
       "      <td>13.73</td>\n",
       "      <td>0.58</td>\n",
       "      <td>1.318</td>\n",
       "      <td>522</td>\n",
       "      <td>16.678352</td>\n",
       "      <td>0</td>\n",
       "    </tr>\n",
       "    <tr>\n",
       "      <th>1</th>\n",
       "      <td>8.70</td>\n",
       "      <td>2.31</td>\n",
       "      <td>1.29</td>\n",
       "      <td>-0.045</td>\n",
       "      <td>99</td>\n",
       "      <td>15.518060</td>\n",
       "      <td>0</td>\n",
       "    </tr>\n",
       "    <tr>\n",
       "      <th>2</th>\n",
       "      <td>5.77</td>\n",
       "      <td>5.50</td>\n",
       "      <td>1.03</td>\n",
       "      <td>0.855</td>\n",
       "      <td>337</td>\n",
       "      <td>14.471813</td>\n",
       "      <td>0</td>\n",
       "    </tr>\n",
       "    <tr>\n",
       "      <th>3</th>\n",
       "      <td>6.72</td>\n",
       "      <td>5.26</td>\n",
       "      <td>0.74</td>\n",
       "      <td>-0.015</td>\n",
       "      <td>150</td>\n",
       "      <td>15.324928</td>\n",
       "      <td>1</td>\n",
       "    </tr>\n",
       "    <tr>\n",
       "      <th>4</th>\n",
       "      <td>8.76</td>\n",
       "      <td>13.44</td>\n",
       "      <td>1.16</td>\n",
       "      <td>0.584</td>\n",
       "      <td>293</td>\n",
       "      <td>19.401997</td>\n",
       "      <td>1</td>\n",
       "    </tr>\n",
       "    <tr>\n",
       "      <th>...</th>\n",
       "      <td>...</td>\n",
       "      <td>...</td>\n",
       "      <td>...</td>\n",
       "      <td>...</td>\n",
       "      <td>...</td>\n",
       "      <td>...</td>\n",
       "      <td>...</td>\n",
       "    </tr>\n",
       "    <tr>\n",
       "      <th>3637</th>\n",
       "      <td>7.29</td>\n",
       "      <td>3.26</td>\n",
       "      <td>0.95</td>\n",
       "      <td>1.786</td>\n",
       "      <td>515</td>\n",
       "      <td>14.856089</td>\n",
       "      <td>0</td>\n",
       "    </tr>\n",
       "    <tr>\n",
       "      <th>3638</th>\n",
       "      <td>8.29</td>\n",
       "      <td>6.38</td>\n",
       "      <td>1.00</td>\n",
       "      <td>0.408</td>\n",
       "      <td>208</td>\n",
       "      <td>17.314104</td>\n",
       "      <td>1</td>\n",
       "    </tr>\n",
       "    <tr>\n",
       "      <th>3639</th>\n",
       "      <td>6.11</td>\n",
       "      <td>2.42</td>\n",
       "      <td>0.79</td>\n",
       "      <td>1.664</td>\n",
       "      <td>539</td>\n",
       "      <td>13.029078</td>\n",
       "      <td>0</td>\n",
       "    </tr>\n",
       "    <tr>\n",
       "      <th>3640</th>\n",
       "      <td>7.94</td>\n",
       "      <td>4.94</td>\n",
       "      <td>2.90</td>\n",
       "      <td>0.210</td>\n",
       "      <td>53</td>\n",
       "      <td>16.408636</td>\n",
       "      <td>1</td>\n",
       "    </tr>\n",
       "    <tr>\n",
       "      <th>3641</th>\n",
       "      <td>8.81</td>\n",
       "      <td>1.87</td>\n",
       "      <td>1.23</td>\n",
       "      <td>1.176</td>\n",
       "      <td>454</td>\n",
       "      <td>15.169209</td>\n",
       "      <td>0</td>\n",
       "    </tr>\n",
       "  </tbody>\n",
       "</table>\n",
       "<p>3642 rows × 7 columns</p>\n",
       "</div>"
      ],
      "text/plain": [
       "      Vmag    Plx  e_Plx    B-V  SpType       Amag  TargetClass\n",
       "0     5.99  13.73   0.58  1.318     522  16.678352            0\n",
       "1     8.70   2.31   1.29 -0.045      99  15.518060            0\n",
       "2     5.77   5.50   1.03  0.855     337  14.471813            0\n",
       "3     6.72   5.26   0.74 -0.015     150  15.324928            1\n",
       "4     8.76  13.44   1.16  0.584     293  19.401997            1\n",
       "...    ...    ...    ...    ...     ...        ...          ...\n",
       "3637  7.29   3.26   0.95  1.786     515  14.856089            0\n",
       "3638  8.29   6.38   1.00  0.408     208  17.314104            1\n",
       "3639  6.11   2.42   0.79  1.664     539  13.029078            0\n",
       "3640  7.94   4.94   2.90  0.210      53  16.408636            1\n",
       "3641  8.81   1.87   1.23  1.176     454  15.169209            0\n",
       "\n",
       "[3642 rows x 7 columns]"
      ]
     },
     "execution_count": 7,
     "metadata": {},
     "output_type": "execute_result"
    }
   ],
   "source": [
    "ds"
   ]
  },
  {
   "cell_type": "code",
   "execution_count": 8,
   "id": "c83c42d9",
   "metadata": {},
   "outputs": [
    {
     "data": {
      "text/plain": [
       "Vmag           0\n",
       "Plx            0\n",
       "e_Plx          0\n",
       "B-V            0\n",
       "SpType         0\n",
       "Amag           0\n",
       "TargetClass    0\n",
       "dtype: int64"
      ]
     },
     "execution_count": 8,
     "metadata": {},
     "output_type": "execute_result"
    }
   ],
   "source": [
    "ds.isnull().sum()"
   ]
  },
  {
   "cell_type": "code",
   "execution_count": 9,
   "id": "91bb5f20",
   "metadata": {},
   "outputs": [],
   "source": [
    "train,test=train_test_split(ds,test_size=0.2)"
   ]
  },
  {
   "cell_type": "code",
   "execution_count": 10,
   "id": "03c0daa5",
   "metadata": {},
   "outputs": [],
   "source": [
    "trainx=train.iloc[:,:6]\n",
    "trainy=train.iloc[:,6]\n",
    "testx=test.iloc[:,:6]\n",
    "testy=test.iloc[:,6]"
   ]
  },
  {
   "cell_type": "code",
   "execution_count": 11,
   "id": "dd951014",
   "metadata": {},
   "outputs": [
    {
     "data": {
      "text/html": [
       "<div>\n",
       "<style scoped>\n",
       "    .dataframe tbody tr th:only-of-type {\n",
       "        vertical-align: middle;\n",
       "    }\n",
       "\n",
       "    .dataframe tbody tr th {\n",
       "        vertical-align: top;\n",
       "    }\n",
       "\n",
       "    .dataframe thead th {\n",
       "        text-align: right;\n",
       "    }\n",
       "</style>\n",
       "<table border=\"1\" class=\"dataframe\">\n",
       "  <thead>\n",
       "    <tr style=\"text-align: right;\">\n",
       "      <th></th>\n",
       "      <th>Vmag</th>\n",
       "      <th>Plx</th>\n",
       "      <th>e_Plx</th>\n",
       "      <th>B-V</th>\n",
       "      <th>SpType</th>\n",
       "      <th>Amag</th>\n",
       "    </tr>\n",
       "  </thead>\n",
       "  <tbody>\n",
       "    <tr>\n",
       "      <th>1750</th>\n",
       "      <td>8.65</td>\n",
       "      <td>4.93</td>\n",
       "      <td>0.98</td>\n",
       "      <td>0.370</td>\n",
       "      <td>207</td>\n",
       "      <td>17.114235</td>\n",
       "    </tr>\n",
       "    <tr>\n",
       "      <th>1839</th>\n",
       "      <td>8.66</td>\n",
       "      <td>32.32</td>\n",
       "      <td>9.52</td>\n",
       "      <td>0.566</td>\n",
       "      <td>287</td>\n",
       "      <td>21.207357</td>\n",
       "    </tr>\n",
       "    <tr>\n",
       "      <th>2199</th>\n",
       "      <td>8.85</td>\n",
       "      <td>1.28</td>\n",
       "      <td>1.38</td>\n",
       "      <td>1.012</td>\n",
       "      <td>433</td>\n",
       "      <td>14.386050</td>\n",
       "    </tr>\n",
       "    <tr>\n",
       "      <th>1689</th>\n",
       "      <td>7.93</td>\n",
       "      <td>0.34</td>\n",
       "      <td>0.74</td>\n",
       "      <td>1.570</td>\n",
       "      <td>545</td>\n",
       "      <td>10.587395</td>\n",
       "    </tr>\n",
       "    <tr>\n",
       "      <th>594</th>\n",
       "      <td>9.15</td>\n",
       "      <td>3.18</td>\n",
       "      <td>0.94</td>\n",
       "      <td>1.438</td>\n",
       "      <td>475</td>\n",
       "      <td>16.662136</td>\n",
       "    </tr>\n",
       "    <tr>\n",
       "      <th>...</th>\n",
       "      <td>...</td>\n",
       "      <td>...</td>\n",
       "      <td>...</td>\n",
       "      <td>...</td>\n",
       "      <td>...</td>\n",
       "      <td>...</td>\n",
       "    </tr>\n",
       "    <tr>\n",
       "      <th>3387</th>\n",
       "      <td>5.54</td>\n",
       "      <td>10.04</td>\n",
       "      <td>0.86</td>\n",
       "      <td>-0.064</td>\n",
       "      <td>178</td>\n",
       "      <td>15.548669</td>\n",
       "    </tr>\n",
       "    <tr>\n",
       "      <th>1844</th>\n",
       "      <td>9.68</td>\n",
       "      <td>9.53</td>\n",
       "      <td>1.39</td>\n",
       "      <td>0.502</td>\n",
       "      <td>259</td>\n",
       "      <td>19.575464</td>\n",
       "    </tr>\n",
       "    <tr>\n",
       "      <th>2463</th>\n",
       "      <td>8.07</td>\n",
       "      <td>1.15</td>\n",
       "      <td>0.97</td>\n",
       "      <td>1.599</td>\n",
       "      <td>540</td>\n",
       "      <td>13.373488</td>\n",
       "    </tr>\n",
       "    <tr>\n",
       "      <th>729</th>\n",
       "      <td>8.36</td>\n",
       "      <td>11.81</td>\n",
       "      <td>0.99</td>\n",
       "      <td>0.531</td>\n",
       "      <td>251</td>\n",
       "      <td>18.721249</td>\n",
       "    </tr>\n",
       "    <tr>\n",
       "      <th>1833</th>\n",
       "      <td>5.86</td>\n",
       "      <td>3.42</td>\n",
       "      <td>0.65</td>\n",
       "      <td>-0.079</td>\n",
       "      <td>145</td>\n",
       "      <td>13.530130</td>\n",
       "    </tr>\n",
       "  </tbody>\n",
       "</table>\n",
       "<p>2913 rows × 6 columns</p>\n",
       "</div>"
      ],
      "text/plain": [
       "      Vmag    Plx  e_Plx    B-V  SpType       Amag\n",
       "1750  8.65   4.93   0.98  0.370     207  17.114235\n",
       "1839  8.66  32.32   9.52  0.566     287  21.207357\n",
       "2199  8.85   1.28   1.38  1.012     433  14.386050\n",
       "1689  7.93   0.34   0.74  1.570     545  10.587395\n",
       "594   9.15   3.18   0.94  1.438     475  16.662136\n",
       "...    ...    ...    ...    ...     ...        ...\n",
       "3387  5.54  10.04   0.86 -0.064     178  15.548669\n",
       "1844  9.68   9.53   1.39  0.502     259  19.575464\n",
       "2463  8.07   1.15   0.97  1.599     540  13.373488\n",
       "729   8.36  11.81   0.99  0.531     251  18.721249\n",
       "1833  5.86   3.42   0.65 -0.079     145  13.530130\n",
       "\n",
       "[2913 rows x 6 columns]"
      ]
     },
     "execution_count": 11,
     "metadata": {},
     "output_type": "execute_result"
    }
   ],
   "source": [
    "trainx"
   ]
  },
  {
   "cell_type": "code",
   "execution_count": 12,
   "id": "42535a4d",
   "metadata": {},
   "outputs": [
    {
     "data": {
      "text/plain": [
       "1750    1\n",
       "1839    1\n",
       "2199    0\n",
       "1689    0\n",
       "594     0\n",
       "       ..\n",
       "3387    1\n",
       "1844    1\n",
       "2463    0\n",
       "729     1\n",
       "1833    0\n",
       "Name: TargetClass, Length: 2913, dtype: int64"
      ]
     },
     "execution_count": 12,
     "metadata": {},
     "output_type": "execute_result"
    }
   ],
   "source": [
    "trainy"
   ]
  },
  {
   "cell_type": "code",
   "execution_count": 13,
   "id": "d09b84fc",
   "metadata": {},
   "outputs": [],
   "source": [
    "dtc=DTC(criterion='entropy')"
   ]
  },
  {
   "cell_type": "code",
   "execution_count": 14,
   "id": "ebd7b1ff",
   "metadata": {},
   "outputs": [],
   "source": [
    "pred=dtc.fit(trainx,trainy).predict(testx)\n",
    "cm=confusion_matrix(pred,testy)\n",
    "acc=np.mean(pred==testy.values.flatten())"
   ]
  },
  {
   "cell_type": "code",
   "execution_count": 15,
   "id": "77e73ee4",
   "metadata": {},
   "outputs": [
    {
     "data": {
      "text/plain": [
       "array([[301,  43],\n",
       "       [ 40, 345]], dtype=int64)"
      ]
     },
     "execution_count": 15,
     "metadata": {},
     "output_type": "execute_result"
    }
   ],
   "source": [
    "cm"
   ]
  },
  {
   "cell_type": "code",
   "execution_count": 16,
   "id": "13c735ea",
   "metadata": {},
   "outputs": [
    {
     "data": {
      "text/plain": [
       "0.9259259259259259"
      ]
     },
     "execution_count": 16,
     "metadata": {},
     "output_type": "execute_result"
    }
   ],
   "source": [
    "mean=(342+333)/(342+333+27+27)\n",
    "mean"
   ]
  },
  {
   "cell_type": "code",
   "execution_count": 17,
   "id": "fcf7e806",
   "metadata": {},
   "outputs": [
    {
     "data": {
      "text/plain": [
       "0.8861454046639232"
      ]
     },
     "execution_count": 17,
     "metadata": {},
     "output_type": "execute_result"
    }
   ],
   "source": [
    "acc"
   ]
  },
  {
   "cell_type": "code",
   "execution_count": 18,
   "id": "6ee0e408",
   "metadata": {},
   "outputs": [
    {
     "data": {
      "text/plain": [
       "(<Figure size 640x480 with 1 Axes>,\n",
       " <AxesSubplot:xlabel='predicted label', ylabel='true label'>)"
      ]
     },
     "execution_count": 18,
     "metadata": {},
     "output_type": "execute_result"
    },
    {
     "data": {
      "image/png": "[encoded data removed]",
      "text/plain": [
       "<Figure size 640x480 with 1 Axes>"
      ]
     },
     "metadata": {},
     "output_type": "display_data"
    }
   ],
   "source": [
    "from mlxtend.plotting import plot_confusion_matrix\n",
    "plot_confusion_matrix(cm)"
   ]
  },
  {
   "cell_type": "code",
   "execution_count": null,
   "id": "e0c424f9",
   "metadata": {},
   "outputs": [],
   "source": []
  }
 ],
 "metadata": {
  "kernelspec": {
   "display_name": "Python 3 (ipykernel)",
   "language": "python",
   "name": "python3"
  },
  "language_info": {
   "codemirror_mode": {
    "name": "ipython",
    "version": 3
   },
   "file_extension": ".py",
   "mimetype": "text/x-python",
   "name": "python",
   "nbconvert_exporter": "python",
   "pygments_lexer": "ipython3",
   "version": "3.9.13"
  }
 },
 "nbformat": 4,
 "nbformat_minor": 5
}
