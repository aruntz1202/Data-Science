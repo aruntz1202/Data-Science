{
 "cells": [
  {
   "cell_type": "code",
   "execution_count": null,
   "id": "f227fe86",
   "metadata": {},
   "outputs": [],
   "source": [
    "import cv2\n",
    "\n",
    "face_cascade=cv2.CascadeClassifier(r\"C:\\Users\\arunf\\OneDrive\\Documents\\Data Science\\AI\\haarcascade_frontalface_default.xml\")\n",
    "\n",
    "img=cv2.imread(r\"C:\\Users\\arunf\\OneDrive\\Documents\\Data Science\\AI\\messi.jpg\")\n",
    "\n",
    "gray=cv2.cvtColor(img,cv2.COLOR_BGR2GRAY)\n",
    "\n",
    "faces=face_cascade.detectMultiScale(gray,2.5,4)\n",
    "\n",
    "for (x,y,w,h) in faces:\n",
    "    cv2.rectangle(img,(x,y),(x+w,y+h),(255,0,0),2)\n",
    "    cv2.imshow(\"Image Detection\",img)\n",
    "cv2.waitKey()\n",
    "\n",
    "cv2.destroyAllWindows()\n"
   ]
  },
  {
   "cell_type": "code",
   "execution_count": null,
   "id": "ef6702b9",
   "metadata": {},
   "outputs": [],
   "source": [
    "#VIDEO FACE DETECTION"
   ]
  },
  {
   "cell_type": "code",
   "execution_count": null,
   "id": "50263ec6",
   "metadata": {},
   "outputs": [],
   "source": [
    "import cv2\n",
    "\n",
    "# Load the cascade \n",
    "face_cascade=cv2.CascadeClassifier(r\"C:\\Users\\arunf\\OneDrive\\Documents\\Data Science\\AI\\haarcascade_frontalface_default.xml\")\n",
    "\n",
    "cap=cv2.VideoCapture(r\"C:\\Users\\arunf\\OneDrive\\Documents\\Data Science\\AI\\Ronaldo-Attitude-Full-screen-whatsapp-status.mp4\")\n"
   ]
  },
  {
   "cell_type": "code",
   "execution_count": null,
   "id": "b4ce5f56",
   "metadata": {},
   "outputs": [],
   "source": [
    "while (True):\n",
    "    # Read the frame\n",
    "    rect,img=cap.read()\n",
    "    \n",
    "    # Convert to grayscale\n",
    "    gray=cv2.cvtColor(img,cv2.COLOR_BGR2GRAY)\n",
    "    \n",
    "    \n",
    "    # Detect the faces\n",
    "    faces=face_cascade.detectMultiScale(gray,1.5,4) \n",
    "    #1.1 is scale factor , 4 is neighbors\n",
    "    \n",
    "    #draw the rectangle around each face\n",
    "    for (x,y,w,h) in faces:\n",
    "         cv2.rectangle(img, (x, y), (x+w, y+h), (255, 0, 0), 2)\n",
    "            \n",
    "    # Display  \n",
    "    cv2.imshow('Video', img)  \n",
    "  \n",
    "    # Stop if escape key is pressed  \n",
    "    if cv2.waitKey(1) & 0xFF == ord('q'):\n",
    "        break     \n",
    "        \n",
    "# Release the VideoCapture object  \n",
    "cap.release()\n",
    "cv2.destroyAllWindows()"
   ]
  },
  {
   "cell_type": "code",
   "execution_count": null,
   "id": "f0270942",
   "metadata": {},
   "outputs": [],
   "source": []
  },
  {
   "cell_type": "code",
   "execution_count": null,
   "id": "37d193fe",
   "metadata": {},
   "outputs": [],
   "source": []
  }
 ],
 "metadata": {
  "kernelspec": {
   "display_name": "Python 3 (ipykernel)",
   "language": "python",
   "name": "python3"
  },
  "language_info": {
   "codemirror_mode": {
    "name": "ipython",
    "version": 3
   },
   "file_extension": ".py",
   "mimetype": "text/x-python",
   "name": "python",
   "nbconvert_exporter": "python",
   "pygments_lexer": "ipython3",
   "version": "3.9.13"
  }
 },
 "nbformat": 4,
 "nbformat_minor": 5
}
