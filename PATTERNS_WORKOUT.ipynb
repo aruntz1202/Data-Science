{
 "cells": [
  {
   "cell_type": "code",
   "execution_count": 2,
   "id": "20a615ac",
   "metadata": {},
   "outputs": [
    {
     "name": "stdout",
     "output_type": "stream",
     "text": [
      "* * * * * \n",
      "* * * * * \n",
      "* * * * * \n",
      "* * * * * \n",
      "* * * * * \n"
     ]
    }
   ],
   "source": [
    "#patter 1\n",
    "\n",
    "for i in range(1,6):\n",
    "    for j in range(1,6):\n",
    "        print(\"*\",end=\" \")\n",
    "    print()"
   ]
  },
  {
   "cell_type": "code",
   "execution_count": 4,
   "id": "17f410fe",
   "metadata": {},
   "outputs": [
    {
     "name": "stdout",
     "output_type": "stream",
     "text": [
      "1 1 1 1 1 \n",
      "2 2 2 2 2 \n",
      "3 3 3 3 3 \n",
      "4 4 4 4 4 \n",
      "5 5 5 5 5 \n"
     ]
    }
   ],
   "source": [
    "#pattern 2\n",
    "\n",
    "for i in range(1,6):\n",
    "    for j in range(1,6):\n",
    "        print(i,end=\" \")\n",
    "    print()"
   ]
  },
  {
   "cell_type": "code",
   "execution_count": 6,
   "id": "2771707e",
   "metadata": {},
   "outputs": [
    {
     "name": "stdout",
     "output_type": "stream",
     "text": [
      "1 2 3 4 5 \n",
      "1 2 3 4 5 \n",
      "1 2 3 4 5 \n",
      "1 2 3 4 5 \n",
      "1 2 3 4 5 \n"
     ]
    }
   ],
   "source": [
    "#pattern 3\n",
    "\n",
    "for i in range(1,6):\n",
    "    for j in range(1,6):\n",
    "        print(j,end=\" \")\n",
    "    print()"
   ]
  },
  {
   "cell_type": "code",
   "execution_count": 7,
   "id": "f3e5d138",
   "metadata": {},
   "outputs": [
    {
     "name": "stdout",
     "output_type": "stream",
     "text": [
      "5 5 5 5 5 \n",
      "4 4 4 4 4 \n",
      "3 3 3 3 3 \n",
      "2 2 2 2 2 \n",
      "1 1 1 1 1 \n"
     ]
    }
   ],
   "source": [
    "#pattern 4\n",
    "\n",
    "for i in range(5,0,-1):\n",
    "    for j in range(5,0,-1):\n",
    "        print(i,end=\" \")\n",
    "    print()"
   ]
  },
  {
   "cell_type": "code",
   "execution_count": 8,
   "id": "84d07d5b",
   "metadata": {},
   "outputs": [
    {
     "name": "stdout",
     "output_type": "stream",
     "text": [
      "5 4 3 2 1 \n",
      "5 4 3 2 1 \n",
      "5 4 3 2 1 \n",
      "5 4 3 2 1 \n",
      "5 4 3 2 1 \n"
     ]
    }
   ],
   "source": [
    "#pattern 5\n",
    "for i in range(5,0,-1):\n",
    "    for j in range(5,0,-1):\n",
    "        print(j,end=\" \")\n",
    "    print()"
   ]
  },
  {
   "cell_type": "code",
   "execution_count": 12,
   "id": "85142dfe",
   "metadata": {},
   "outputs": [
    {
     "name": "stdout",
     "output_type": "stream",
     "text": [
      " 1  2  3  4  5 \n",
      " 6  7  8  9 10 \n",
      "11 12 13 14 15 \n",
      "16 17 18 19 20 \n",
      "21 22 23 24 25 \n"
     ]
    }
   ],
   "source": [
    "#pattern 6\n",
    "\n",
    "k=1\n",
    "for i in range(1,6):\n",
    "    for j in range(1,6):\n",
    "        print(\"{:2d}\".format(k),end=\" \")\n",
    "        k=k+1\n",
    "    print()\n",
    "        "
   ]
  },
  {
   "cell_type": "code",
   "execution_count": 13,
   "id": "b4f4f833",
   "metadata": {},
   "outputs": [
    {
     "name": "stdout",
     "output_type": "stream",
     "text": [
      " 1  3  5  7  9 \n",
      "11 13 15 17 19 \n",
      "21 23 25 27 29 \n",
      "31 33 35 37 39 \n",
      "41 43 45 47 49 \n"
     ]
    }
   ],
   "source": [
    "#pattern 7\n",
    "\n",
    "k=1\n",
    "for i in range(1,6):\n",
    "    for j in range(1,6):\n",
    "        print(\"{:2d}\".format(k),end=\" \")\n",
    "        k=k+2\n",
    "    print()"
   ]
  },
  {
   "cell_type": "code",
   "execution_count": 14,
   "id": "afe27567",
   "metadata": {},
   "outputs": [
    {
     "name": "stdout",
     "output_type": "stream",
     "text": [
      " 2  4  6  8 10 \n",
      "12 14 16 18 20 \n",
      "22 24 26 28 30 \n",
      "32 34 36 38 40 \n",
      "42 44 46 48 50 \n"
     ]
    }
   ],
   "source": [
    "#pattern 8\n",
    "\n",
    "k=2\n",
    "for i in range(1,6):\n",
    "    for j in range(1,6):\n",
    "        print(\"{:2d}\".format(k),end=\" \")\n",
    "        k=k+2\n",
    "    print()"
   ]
  },
  {
   "cell_type": "code",
   "execution_count": 15,
   "id": "b7f0a932",
   "metadata": {},
   "outputs": [
    {
     "name": "stdout",
     "output_type": "stream",
     "text": [
      " 1  2  3  4  5 \n",
      " 2  4  6  8 10 \n",
      " 3  6  9 12 15 \n",
      " 4  8 12 16 20 \n",
      " 5 10 15 20 25 \n"
     ]
    }
   ],
   "source": [
    "#pattern 9\n",
    "\n",
    "for i in range(1,6):\n",
    "    for j in range(1,6):\n",
    "        print(\"{:2d}\".format(i*j),end=\" \")\n",
    "    print()"
   ]
  },
  {
   "cell_type": "code",
   "execution_count": 21,
   "id": "6d6b6002",
   "metadata": {},
   "outputs": [
    {
     "name": "stdout",
     "output_type": "stream",
     "text": [
      "1 1 2 1 3 1 \n",
      "1 2 2 2 3 2 \n",
      "1 3 2 3 3 3 \n",
      "1 4 2 4 3 4 \n",
      "1 5 2 5 3 5 \n"
     ]
    }
   ],
   "source": [
    "#pattern 10\n",
    "n=6\n",
    "for i in range(1,n):\n",
    "    k=1\n",
    "    for j in range(1,n+1):\n",
    "        if j%2!=0:\n",
    "            print(k,end=\" \")\n",
    "            k=k+1\n",
    "        else:\n",
    "            print(i,end=\" \")\n",
    "    print()"
   ]
  },
  {
   "cell_type": "code",
   "execution_count": 24,
   "id": "153cec13",
   "metadata": {},
   "outputs": [
    {
     "name": "stdout",
     "output_type": "stream",
     "text": [
      "112131\n",
      "122232\n",
      "132333\n",
      "142434\n",
      "152535\n"
     ]
    }
   ],
   "source": [
    "for x in range(1,6):\n",
    "    for y in range(1,4):\n",
    "        print(\"{}{}\".format(y,x),end=\"\")\n",
    "    print()"
   ]
  },
  {
   "cell_type": "code",
   "execution_count": 1,
   "id": "80149423",
   "metadata": {},
   "outputs": [
    {
     "name": "stdout",
     "output_type": "stream",
     "text": [
      "1 1 1 2 1 3 \n",
      "2 1 2 2 2 3 \n",
      "3 1 3 2 3 3 \n",
      "4 1 4 2 4 3 \n",
      "5 1 5 2 5 3 \n"
     ]
    }
   ],
   "source": [
    "#pattern 11\n",
    "\n",
    "n=6\n",
    "for i in range(1,n):\n",
    "    k=1\n",
    "    for j in range(1,n+1):\n",
    "        if j%2==0:\n",
    "            print(k,end=\" \")\n",
    "            k=k+1\n",
    "        else:\n",
    "            print(i,end=\" \")\n",
    "    print()"
   ]
  },
  {
   "cell_type": "code",
   "execution_count": 2,
   "id": "2b767748",
   "metadata": {},
   "outputs": [
    {
     "name": "stdout",
     "output_type": "stream",
     "text": [
      " 1  6 11 16 21 \n",
      " 2  7 12 17 22 \n",
      " 3  8 13 18 23 \n",
      " 4  9 14 19 24 \n",
      " 5 10 15 20 25 \n"
     ]
    }
   ],
   "source": [
    "#pattern 12\n",
    "\n",
    "for i in range(1,6):\n",
    "    k=i\n",
    "    for j in range(1,6):\n",
    "        print(\"{:2d}\".format(k),end=\" \")\n",
    "        k=k+5\n",
    "    print()\n",
    "        "
   ]
  },
  {
   "cell_type": "code",
   "execution_count": 4,
   "id": "f1985921",
   "metadata": {},
   "outputs": [
    {
     "name": "stdout",
     "output_type": "stream",
     "text": [
      " 1 10 11 20 21 \n",
      " 2  9 12 19 22 \n",
      " 3  8 13 18 23 \n",
      " 4  7 14 17 24 \n",
      " 5  6 15 16 25 \n"
     ]
    }
   ],
   "source": [
    "#pattern 13\n",
    "\n",
    "n=5\n",
    "for i in range(1,n+1):\n",
    "    x=i\n",
    "    y=n-i+1\n",
    "    for j in range(1,n+1):\n",
    "        if(j%2!=0):\n",
    "            print(\"{:2d}\".format(x),end=\" \")\n",
    "        else:\n",
    "            print(\"{:2d}\".format(y),end=\" \")\n",
    "            \n",
    "        x=x+n\n",
    "        y=y+n\n",
    "    print()"
   ]
  },
  {
   "cell_type": "code",
   "execution_count": null,
   "id": "05416190",
   "metadata": {},
   "outputs": [],
   "source": [
    "#pattern 14"
   ]
  },
  {
   "cell_type": "code",
   "execution_count": 5,
   "id": "1907c846",
   "metadata": {},
   "outputs": [
    {
     "name": "stdout",
     "output_type": "stream",
     "text": [
      " 5  6 15 16 25 \n",
      " 4  7 14 17 24 \n",
      " 3  8 13 18 23 \n",
      " 2  9 12 19 22 \n",
      " 1 10 11 20 21 \n"
     ]
    }
   ],
   "source": [
    "#pattern 15\n",
    "\n",
    "n=5\n",
    "for i in range(5,0,-1):\n",
    "    x=i\n",
    "    y=n-i+1\n",
    "    for j in range(5,0,-1):\n",
    "        if(j%2!=0):\n",
    "            print(\"{:2d}\".format(x),end=\" \")\n",
    "        else:\n",
    "            print(\"{:2d}\".format(y),end=\" \")\n",
    "            \n",
    "        x=x+n\n",
    "        y=y+n\n",
    "    print()"
   ]
  },
  {
   "cell_type": "code",
   "execution_count": null,
   "id": "89ff1d97",
   "metadata": {},
   "outputs": [],
   "source": []
  }
 ],
 "metadata": {
  "kernelspec": {
   "display_name": "Python 3 (ipykernel)",
   "language": "python",
   "name": "python3"
  },
  "language_info": {
   "codemirror_mode": {
    "name": "ipython",
    "version": 3
   },
   "file_extension": ".py",
   "mimetype": "text/x-python",
   "name": "python",
   "nbconvert_exporter": "python",
   "pygments_lexer": "ipython3",
   "version": "3.9.13"
  }
 },
 "nbformat": 4,
 "nbformat_minor": 5
}
