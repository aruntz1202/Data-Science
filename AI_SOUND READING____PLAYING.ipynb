{
 "cells": [
  {
   "cell_type": "code",
   "execution_count": null,
   "id": "ccad196a",
   "metadata": {},
   "outputs": [],
   "source": [
    "#playsound\n",
    "from playsound import playsound\n",
    "playsound(r\"C:\\Users\\arunf\\OneDrive\\Documents\\Data Science\\AI\\justified.wav\")\n",
    "if cv2.waitKey(0) & 0xff == 27:\n",
    "    cv2.destroyAllWindows()"
   ]
  },
  {
   "cell_type": "code",
   "execution_count": 22,
   "id": "ceb98a25",
   "metadata": {},
   "outputs": [],
   "source": [
    "#winsound\n",
    "import winsound\n",
    "filename =(r\"C:\\Users\\arunf\\OneDrive\\Documents\\Data Science\\AI\\Atma-Rama-Ananda-Ramana.mp3\")\n",
    "winsound.PlaySound(filename, winsound.SND_FILENAME)"
   ]
  },
  {
   "cell_type": "code",
   "execution_count": 19,
   "id": "5a2f8b9d",
   "metadata": {},
   "outputs": [
    {
     "ename": "ModuleNotFoundError",
     "evalue": "No module named 'simpleaudio'",
     "output_type": "error",
     "traceback": [
      "\u001b[1;31m---------------------------------------------------------------------------\u001b[0m",
      "\u001b[1;31mModuleNotFoundError\u001b[0m                       Traceback (most recent call last)",
      "\u001b[1;32m~\\AppData\\Local\\Temp\\ipykernel_20348\\2354325979.py\u001b[0m in \u001b[0;36m<module>\u001b[1;34m\u001b[0m\n\u001b[0;32m      1\u001b[0m \u001b[1;31m#simple audio\u001b[0m\u001b[1;33m\u001b[0m\u001b[1;33m\u001b[0m\u001b[0m\n\u001b[0;32m      2\u001b[0m \u001b[1;33m\u001b[0m\u001b[0m\n\u001b[1;32m----> 3\u001b[1;33m \u001b[1;32mimport\u001b[0m \u001b[0msimpleaudio\u001b[0m \u001b[1;32mas\u001b[0m \u001b[0msa\u001b[0m\u001b[1;33m\u001b[0m\u001b[1;33m\u001b[0m\u001b[0m\n\u001b[0m\u001b[0;32m      4\u001b[0m \u001b[0mfilename\u001b[0m \u001b[1;33m=\u001b[0m\u001b[1;33m(\u001b[0m\u001b[1;34mr\"C:\\Users\\arunf\\OneDrive\\Documents\\Data Science\\AI\\Atma-Rama-Ananda-Ramana.mp3\"\u001b[0m\u001b[1;33m)\u001b[0m\u001b[1;33m\u001b[0m\u001b[1;33m\u001b[0m\u001b[0m\n\u001b[0;32m      5\u001b[0m \u001b[0mwave_obj\u001b[0m \u001b[1;33m=\u001b[0m \u001b[0msa\u001b[0m\u001b[1;33m.\u001b[0m\u001b[0mWaveObject\u001b[0m\u001b[1;33m.\u001b[0m\u001b[0mfrom_wave_file\u001b[0m\u001b[1;33m(\u001b[0m\u001b[0mfilename\u001b[0m\u001b[1;33m)\u001b[0m\u001b[1;33m\u001b[0m\u001b[1;33m\u001b[0m\u001b[0m\n",
      "\u001b[1;31mModuleNotFoundError\u001b[0m: No module named 'simpleaudio'"
     ]
    }
   ],
   "source": [
    "#simple audio\n",
    "\n",
    "import simpleaudio as sa\n",
    "filename =(r\"C:\\Users\\arunf\\OneDrive\\Documents\\Data Science\\AI\\Atma-Rama-Ananda-Ramana.mp3\")\n",
    "wave_obj = sa.WaveObject.from_wave_file(filename)\n",
    "play_obj = wave_obj.play()\n",
    "play_obj.wait_done() # Wait until sound has finished playing"
   ]
  },
  {
   "cell_type": "code",
   "execution_count": null,
   "id": "506ab775",
   "metadata": {},
   "outputs": [],
   "source": [
    "#sounddevice\n",
    "\n",
    "import sounddevice as sd\n",
    "import soundfile as sf\n",
    "filename =(r\"C:\\Users\\arunf\\OneDrive\\Documents\\Data Science\\AI\\Atma-Rama-Ananda-Ramana.mp3\")\n",
    "# Extract data and sampling rate from file\n",
    "data, fs = sf.read(filename, dtype='float32')  \n",
    "sd.play(data, fs)\n",
    "status = sd.wait()  # Wait until file is done playing"
   ]
  },
  {
   "cell_type": "code",
   "execution_count": null,
   "id": "4078d700",
   "metadata": {},
   "outputs": [],
   "source": []
  }
 ],
 "metadata": {
  "kernelspec": {
   "display_name": "Python 3 (ipykernel)",
   "language": "python",
   "name": "python3"
  },
  "language_info": {
   "codemirror_mode": {
    "name": "ipython",
    "version": 3
   },
   "file_extension": ".py",
   "mimetype": "text/x-python",
   "name": "python",
   "nbconvert_exporter": "python",
   "pygments_lexer": "ipython3",
   "version": "3.9.13"
  }
 },
 "nbformat": 4,
 "nbformat_minor": 5
}
