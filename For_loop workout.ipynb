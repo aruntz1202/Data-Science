{
 "cells": [
  {
   "cell_type": "code",
   "execution_count": 1,
   "id": "30039074",
   "metadata": {},
   "outputs": [
    {
     "name": "stdout",
     "output_type": "stream",
     "text": [
      "[1, 4, 9, 16, 25]\n"
     ]
    }
   ],
   "source": [
    "#list ofintegers are give. make new list of square of given list\n",
    "a=[1,2,3,4,5]\n",
    "b=[]\n",
    "for i in a:\n",
    "    b.append(i**2)\n",
    "print(b)"
   ]
  },
  {
   "cell_type": "code",
   "execution_count": 9,
   "id": "4a6b3838",
   "metadata": {},
   "outputs": [
    {
     "name": "stdout",
     "output_type": "stream",
     "text": [
      "1\n",
      "3\n",
      "5\n",
      "7\n",
      "9\n",
      "11\n",
      "13\n",
      "15\n",
      "17\n",
      "19\n"
     ]
    }
   ],
   "source": [
    "#first 10 odd number\n",
    "a=1\n",
    "print(a)\n",
    "for i in range(1,10):\n",
    "        a=a+2\n",
    "        print(a)\n",
    "    "
   ]
  },
  {
   "cell_type": "code",
   "execution_count": 14,
   "id": "00e08b6b",
   "metadata": {},
   "outputs": [
    {
     "name": "stdout",
     "output_type": "stream",
     "text": [
      "20\n",
      "18\n",
      "16\n",
      "14\n",
      "12\n",
      "10\n",
      "8\n",
      "6\n",
      "4\n",
      "2\n"
     ]
    }
   ],
   "source": [
    "#first 10 even numbers in reverse order\n",
    "a=22\n",
    "for i in range(1,11):\n",
    "    a=a-2\n",
    "    print(a)\n",
    "    "
   ]
  },
  {
   "cell_type": "code",
   "execution_count": 20,
   "id": "3cf0716d",
   "metadata": {},
   "outputs": [
    {
     "name": "stdout",
     "output_type": "stream",
     "text": [
      "enter a number : 66\n",
      "36\n"
     ]
    }
   ],
   "source": [
    "#product of digits of a number\n",
    "n=str(input(\"enter a number : \"))\n",
    "p=1\n",
    "for i in n:\n",
    "    p=p*int(i)\n",
    "print(p)"
   ]
  },
  {
   "cell_type": "code",
   "execution_count": 21,
   "id": "60e60f54",
   "metadata": {},
   "outputs": [
    {
     "name": "stdout",
     "output_type": "stream",
     "text": [
      "enter a number : 23\n",
      "5\n"
     ]
    }
   ],
   "source": [
    "#sum of digits of a number\n",
    "n=str(input(\"enter a number : \"))\n",
    "s=0\n",
    "for i in n:\n",
    "    s=s+int(i)\n",
    "print(s)"
   ]
  },
  {
   "cell_type": "code",
   "execution_count": 31,
   "id": "b171e2bd",
   "metadata": {},
   "outputs": [
    {
     "name": "stdout",
     "output_type": "stream",
     "text": [
      "[15, 9, 11, 13, 13, 3, 10, 10, 14]\n"
     ]
    }
   ],
   "source": [
    "#random number of list\n",
    "import random\n",
    "random_list=[]\n",
    "for i in range(1,10):\n",
    "    random_list.append(random.randint(1,20))\n",
    "print(random_list)"
   ]
  },
  {
   "cell_type": "code",
   "execution_count": 32,
   "id": "f869876a",
   "metadata": {},
   "outputs": [
    {
     "name": "stdout",
     "output_type": "stream",
     "text": [
      "5\n",
      "10\n",
      "15\n",
      "20\n"
     ]
    }
   ],
   "source": [
    "#select numbers that is divisible by 5 from a list\n",
    "a=[1,2,5,7,10,13,15,17,20]\n",
    "for i in a:\n",
    "    if i%5==0:\n",
    "        print(i)"
   ]
  },
  {
   "cell_type": "code",
   "execution_count": 33,
   "id": "f9c62b7d",
   "metadata": {},
   "outputs": [
    {
     "name": "stdout",
     "output_type": "stream",
     "text": [
      "5\n",
      "10\n",
      "15\n",
      "20\n",
      "30\n"
     ]
    }
   ],
   "source": [
    "#if number greater than 150 skip and move to next number\n",
    "a=[1,2,5,7,10,13,15,17,20,150,200,30]\n",
    "for i in a:\n",
    "    if i%5==0 and i<150:\n",
    "        \n",
    "        print(i)"
   ]
  },
  {
   "cell_type": "code",
   "execution_count": 34,
   "id": "b5288e53",
   "metadata": {},
   "outputs": [
    {
     "name": "stdout",
     "output_type": "stream",
     "text": [
      "10\n",
      "20\n",
      "150\n",
      "30\n",
      "50\n"
     ]
    }
   ],
   "source": [
    "#if number is greater than 150 skip and move to next number\n",
    "a=[2,6,10,13,17,20,150,200,30,50]\n",
    "for i in a:\n",
    "    if (i%5==0):\n",
    "        if (i>150):\n",
    "            continue\n",
    "        else:\n",
    "            print(i)"
   ]
  },
  {
   "cell_type": "code",
   "execution_count": 37,
   "id": "ff6d2933",
   "metadata": {},
   "outputs": [
    {
     "name": "stdout",
     "output_type": "stream",
     "text": [
      "10\n",
      "20\n",
      "150\n"
     ]
    }
   ],
   "source": [
    "#if number greater than 500 stop loop\n",
    "a=[2,6,10,13,17,20,150,600,30,50]\n",
    "for i in a:\n",
    "    if (i%5==0):\n",
    "        if i>500:\n",
    "            break;\n",
    "        print(i)"
   ]
  },
  {
   "cell_type": "code",
   "execution_count": 43,
   "id": "804ce31e",
   "metadata": {},
   "outputs": [
    {
     "name": "stdout",
     "output_type": "stream",
     "text": [
      "enter a number12345\n",
      "5\n"
     ]
    }
   ],
   "source": [
    "#count the total number of digits in  a number\n",
    "n=str(input(\"enter a number\"))\n",
    "count=0\n",
    "for i in n:\n",
    "    count=count+1\n",
    "print(count)\n",
    "    "
   ]
  },
  {
   "cell_type": "code",
   "execution_count": 44,
   "id": "dfdb1bc3",
   "metadata": {},
   "outputs": [
    {
     "name": "stdout",
     "output_type": "stream",
     "text": [
      "-10\n",
      "-9\n",
      "-8\n",
      "-7\n",
      "-6\n",
      "-5\n",
      "-4\n",
      "-3\n",
      "-2\n",
      "-1\n"
     ]
    }
   ],
   "source": [
    "#display numbers from -10 to -1 using for loop\n",
    "for i in range(-10,0):\n",
    "    print(i)"
   ]
  },
  {
   "cell_type": "code",
   "execution_count": null,
   "id": "77801a8f",
   "metadata": {},
   "outputs": [],
   "source": []
  }
 ],
 "metadata": {
  "kernelspec": {
   "display_name": "Python 3 (ipykernel)",
   "language": "python",
   "name": "python3"
  },
  "language_info": {
   "codemirror_mode": {
    "name": "ipython",
    "version": 3
   },
   "file_extension": ".py",
   "mimetype": "text/x-python",
   "name": "python",
   "nbconvert_exporter": "python",
   "pygments_lexer": "ipython3",
   "version": "3.9.13"
  }
 },
 "nbformat": 4,
 "nbformat_minor": 5
}
