{
 "cells": [
  {
   "cell_type": "code",
   "execution_count": 2,
   "id": "d93977a1",
   "metadata": {},
   "outputs": [
    {
     "name": "stdout",
     "output_type": "stream",
     "text": [
      "15\n"
     ]
    }
   ],
   "source": [
    "#sum of numbers in a list\n",
    "a=[1,2,3,4,5]\n",
    "sum=0\n",
    "n=len(a)\n",
    "i=0\n",
    "while i<n:\n",
    "    sum=sum+a[i]\n",
    "    i=i+1\n",
    "print(sum)"
   ]
  },
  {
   "cell_type": "code",
   "execution_count": 5,
   "id": "7ada03fd",
   "metadata": {},
   "outputs": [
    {
     "name": "stdout",
     "output_type": "stream",
     "text": [
      "2\n",
      "4\n",
      "6\n",
      "8\n",
      "10\n"
     ]
    }
   ],
   "source": [
    "#printing the items in a tuple using while loop\n",
    "a=(2,4,6,8,10)\n",
    "i=0\n",
    "while i<len(a):\n",
    "    print(a[i])\n",
    "    i=i+1"
   ]
  },
  {
   "cell_type": "code",
   "execution_count": 11,
   "id": "9f56cc34",
   "metadata": {},
   "outputs": [
    {
     "name": "stdout",
     "output_type": "stream",
     "text": [
      "b\n",
      "d\n",
      "f\n"
     ]
    }
   ],
   "source": [
    "#printing all letters exept some using while loop\n",
    "a=['a','b','c','d','e','f']\n",
    "i=0\n",
    "while i<len(a):\n",
    "    if i%2==0:\n",
    "        i=i+1\n",
    "        continue\n",
    "    else:\n",
    "        print(a[i])\n",
    "    i=i+1"
   ]
  },
  {
   "cell_type": "code",
   "execution_count": 17,
   "id": "c92a0935",
   "metadata": {},
   "outputs": [
    {
     "name": "stdout",
     "output_type": "stream",
     "text": [
      "1 * 6 = 6\n",
      "2 * 6 = 12\n",
      "3 * 6 = 18\n",
      "4 * 6 = 24\n",
      "5 * 6 = 30\n",
      "6 * 6 = 36\n",
      "7 * 6 = 42\n",
      "8 * 6 = 48\n",
      "9 * 6 = 54\n",
      "10 * 6 = 60\n"
     ]
    }
   ],
   "source": [
    "n=6\n",
    "i=1\n",
    "while i<=10:\n",
    "    print(i, \"*\", n ,\"=\" ,i*n)\n",
    "    i=i+1"
   ]
  },
  {
   "cell_type": "code",
   "execution_count": 18,
   "id": "780e2df8",
   "metadata": {},
   "outputs": [
    {
     "name": "stdout",
     "output_type": "stream",
     "text": [
      "2\n",
      "6\n",
      "12\n",
      "20\n",
      "30\n"
     ]
    }
   ],
   "source": [
    "#sum of even numbers using while loop\n",
    "i=2\n",
    "sum=0\n",
    "while i<=10:\n",
    "    sum=sum+i\n",
    "    i=i+2\n",
    "    print(sum)"
   ]
  },
  {
   "cell_type": "code",
   "execution_count": 23,
   "id": "d3bc14c3",
   "metadata": {},
   "outputs": [
    {
     "name": "stdout",
     "output_type": "stream",
     "text": [
      "enter a number5\n",
      "5\n",
      "4\n",
      "3\n",
      "2\n",
      "1\n"
     ]
    }
   ],
   "source": [
    "#n natural numbers in descending order\n",
    "n=int(input(\"enter a number\"))\n",
    "i=n\n",
    "while i>0:\n",
    "    print(i)\n",
    "    i=i-1"
   ]
  },
  {
   "cell_type": "code",
   "execution_count": 28,
   "id": "d156994a",
   "metadata": {},
   "outputs": [
    {
     "name": "stdout",
     "output_type": "stream",
     "text": [
      "[4, 16, 36, 64]\n"
     ]
    }
   ],
   "source": [
    "#appends the square of each number to a new list\n",
    "a=[2,4,6,8]\n",
    "b=[]\n",
    "i=0\n",
    "while i<len(a):\n",
    "    s=(a[i])**2\n",
    "    b.append(s)\n",
    "    i=i+1\n",
    "print(b)"
   ]
  },
  {
   "cell_type": "code",
   "execution_count": 33,
   "id": "c23d2010",
   "metadata": {},
   "outputs": [
    {
     "name": "stdout",
     "output_type": "stream",
     "text": [
      "positive list : [1, 2, 3, 4]\n",
      "negative list : [-1, -2, -3, -4]\n"
     ]
    }
   ],
   "source": [
    "#separate positive and negative numbers from a list\n",
    "a=[1,2,3,4,-1,-2,-3,-4]\n",
    "i=0\n",
    "p=[]\n",
    "n=[]\n",
    "while i<len(a):\n",
    "    if a[i]<0:\n",
    "        n.append(a[i])\n",
    "    else:\n",
    "        p.append(a[i])\n",
    "    i=i+1\n",
    "print(\"positive list :\" , p)\n",
    "print(\"negative list :\", n)"
   ]
  },
  {
   "cell_type": "code",
   "execution_count": 36,
   "id": "909ec0a4",
   "metadata": {},
   "outputs": [
    {
     "name": "stdout",
     "output_type": "stream",
     "text": [
      "10\n",
      "20\n"
     ]
    }
   ],
   "source": [
    "#fetch only even values from a dictionary\n",
    "a={1:5,2:10,3:15,4:20}\n",
    "i=1\n",
    "while i<=len(a):\n",
    "    if a[i] %2==0:\n",
    "        print(a[i])\n",
    "    i=i+1"
   ]
  },
  {
   "cell_type": "code",
   "execution_count": 37,
   "id": "d0242e49",
   "metadata": {},
   "outputs": [
    {
     "name": "stdout",
     "output_type": "stream",
     "text": [
      "even list:  [2, 4, 6, 8]\n",
      "odd list:  [1, 3, 5, 7]\n"
     ]
    }
   ],
   "source": [
    "#filter even and odd numbers from a list\n",
    "a=[1,2,3,4,5,6,7,8]\n",
    "i=0\n",
    "even_list=[]\n",
    "odd_list=[]\n",
    "while i<len(a):\n",
    "    if a[i] %2==0:\n",
    "        even_list.append(a[i])\n",
    "    else:\n",
    "        odd_list.append(a[i])\n",
    "    i=i+1\n",
    "print(\"even list: \",even_list)\n",
    "print(\"odd list: \",odd_list)"
   ]
  },
  {
   "cell_type": "code",
   "execution_count": null,
   "id": "aa20a024",
   "metadata": {},
   "outputs": [],
   "source": []
  }
 ],
 "metadata": {
  "kernelspec": {
   "display_name": "Python 3 (ipykernel)",
   "language": "python",
   "name": "python3"
  },
  "language_info": {
   "codemirror_mode": {
    "name": "ipython",
    "version": 3
   },
   "file_extension": ".py",
   "mimetype": "text/x-python",
   "name": "python",
   "nbconvert_exporter": "python",
   "pygments_lexer": "ipython3",
   "version": "3.9.13"
  }
 },
 "nbformat": 4,
 "nbformat_minor": 5
}
