{
 "cells": [
  {
   "cell_type": "code",
   "execution_count": 2,
   "id": "702e02c8",
   "metadata": {},
   "outputs": [],
   "source": [
    "import cv2\n",
    "import numpy as np"
   ]
  },
  {
   "cell_type": "code",
   "execution_count": 5,
   "id": "9e36135d",
   "metadata": {},
   "outputs": [],
   "source": [
    "# Haris corner detection\n",
    "\n",
    "image = cv2.imread(r\"C:\\Users\\arunf\\Downloads\\HD-wallpaper-taj-mahal-tomb-monument-water-india-lake.jpg\")\n",
    "gray_image= cv2.cvtColor(image, cv2.COLOR_BGR2GRAY)\n",
    "gray_image = np.float32(gray_image)\n",
    "dest = cv2.cornerHarris(gray_image, 2, 5, 0.07)\n",
    "dest = cv2.dilate(dest, None)\n",
    "image[dest > 0.01 * dest.max()]=[0, 0, 255]\n",
    "cv2.imshow('Image with Borders', image)\n",
    "if cv2.waitKey(0) & 0xff == 27:\n",
    "    cv2.destroyAllWindows()"
   ]
  },
  {
   "cell_type": "code",
   "execution_count": 6,
   "id": "56f1e938",
   "metadata": {},
   "outputs": [],
   "source": [
    "#Shi-Tomasi corner detection\n",
    "\n",
    "image = cv2.imread(r\"C:\\Users\\arunf\\Downloads\\HD-wallpaper-taj-mahal-tomb-monument-water-india-lake.jpg\")\n",
    "gray_image = cv2.cvtColor(image, cv2.COLOR_BGR2GRAY)\n",
    "corners = cv2.goodFeaturesToTrack(gray_image, maxCorners=50, qualityLevel=0.02, minDistance=20)\n",
    "corners = np.int0(corners)\n",
    "for item in corners:\n",
    "    x, y = item[0]\n",
    "    cv2.circle(image, (x, y), 6, (0, 255, 0), -1)\n",
    "cv2.imshow('Image with Borders', image)\n",
    "if cv2.waitKey(0) & 0xff == 27:\n",
    "    cv2.destroyAllWindows()"
   ]
  },
  {
   "cell_type": "code",
   "execution_count": null,
   "id": "b37bf208",
   "metadata": {},
   "outputs": [],
   "source": []
  }
 ],
 "metadata": {
  "kernelspec": {
   "display_name": "Python 3 (ipykernel)",
   "language": "python",
   "name": "python3"
  },
  "language_info": {
   "codemirror_mode": {
    "name": "ipython",
    "version": 3
   },
   "file_extension": ".py",
   "mimetype": "text/x-python",
   "name": "python",
   "nbconvert_exporter": "python",
   "pygments_lexer": "ipython3",
   "version": "3.9.13"
  }
 },
 "nbformat": 4,
 "nbformat_minor": 5
}
