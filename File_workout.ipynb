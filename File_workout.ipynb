{
 "cells": [
  {
   "cell_type": "code",
   "execution_count": 1,
   "id": "ccb67668",
   "metadata": {},
   "outputs": [],
   "source": [
    "#w = write mode , create file , over write if data exist in file\n",
    "#r = read mode \n",
    "#a = append mode ,additional data\n",
    "#x = file create if not exist ,if exist error\n",
    "\n",
    "#b =binary mode (image)\n",
    "#t =text mode(text file)\n",
    "\n",
    "#wt , rt  ,wb ,rb\n",
    "\n",
    "#open(\"filename.filetype\",\"mode\")\n",
    "#eg\" = open(\"sample.txt\",\"x\")\n",
    "#if you open a file, also close the file  f.close()"
   ]
  },
  {
   "cell_type": "code",
   "execution_count": 2,
   "id": "726e0894",
   "metadata": {},
   "outputs": [],
   "source": [
    "f=open(\"sample.txt\", \"w\")\n",
    "f.close()"
   ]
  },
  {
   "cell_type": "code",
   "execution_count": 4,
   "id": "7b358fd7",
   "metadata": {},
   "outputs": [],
   "source": [
    "#to specify path\n",
    "f=open(r\"C:\\Users\\arunf\\OneDrive\\Documents\\Data Science\\Python\\File\\sample.docx\", \"w\")\n",
    "f.close()"
   ]
  },
  {
   "cell_type": "code",
   "execution_count": 5,
   "id": "6c0af015",
   "metadata": {},
   "outputs": [],
   "source": [
    "f=open(\"sample.txt\", \"w\")\n",
    "f.write(\"Learn java Programming\\n\")\n",
    "f.close()"
   ]
  },
  {
   "cell_type": "code",
   "execution_count": 6,
   "id": "c6c973b1",
   "metadata": {},
   "outputs": [],
   "source": [
    "f=open(\"sample.txt\", \"a\")\n",
    "f.write(\"Learn C Programming\")\n",
    "f.close()"
   ]
  },
  {
   "cell_type": "code",
   "execution_count": 10,
   "id": "c83a5306",
   "metadata": {},
   "outputs": [
    {
     "name": "stdout",
     "output_type": "stream",
     "text": [
      "Learn java Programming\n",
      "Learn C Programming\n"
     ]
    }
   ],
   "source": [
    "f=open(\"sample.txt\", \"r\")\n",
    "read=f.read()\n",
    "print(read)\n",
    "f.close()"
   ]
  },
  {
   "cell_type": "code",
   "execution_count": 11,
   "id": "9b5019fc",
   "metadata": {},
   "outputs": [
    {
     "name": "stdout",
     "output_type": "stream",
     "text": [
      "['Learn java Programming\\n', 'Learn C Programming']\n"
     ]
    }
   ],
   "source": [
    "f=open(\"sample.txt\", \"r\")\n",
    "read=f.readlines()\n",
    "print(read)\n",
    "f.close()"
   ]
  },
  {
   "cell_type": "code",
   "execution_count": 12,
   "id": "63cd0312",
   "metadata": {},
   "outputs": [
    {
     "name": "stdout",
     "output_type": "stream",
     "text": [
      "Learn java Programming\n",
      "\n",
      "Learn C Programming\n"
     ]
    }
   ],
   "source": [
    "f=open(\"sample.txt\", \"r\")\n",
    "for i in f:\n",
    "    print(i)\n",
    "f.close()"
   ]
  },
  {
   "cell_type": "code",
   "execution_count": 13,
   "id": "3aabbc51",
   "metadata": {},
   "outputs": [
    {
     "name": "stdout",
     "output_type": "stream",
     "text": [
      "Learn java Programming\n",
      "\n",
      "Learn C Programming\n"
     ]
    }
   ],
   "source": [
    "#while using \"with startement\" we not need to close() file\n",
    "with open(\"sample.txt\", \"r\") as f:\n",
    "    for i in f:\n",
    "        print(i)"
   ]
  },
  {
   "cell_type": "code",
   "execution_count": 14,
   "id": "4aca7008",
   "metadata": {},
   "outputs": [],
   "source": [
    "\n",
    "#to delete file\n",
    "#import os\n",
    "#os.remove(\"filename.filetype\")"
   ]
  },
  {
   "cell_type": "code",
   "execution_count": 15,
   "id": "607c6b78",
   "metadata": {},
   "outputs": [
    {
     "name": "stdout",
     "output_type": "stream",
     "text": [
      "Lear\n"
     ]
    }
   ],
   "source": [
    "#to print first 4 characters in line\n",
    "f=open(\"sample.txt\", \"r\")\n",
    "read=f.read(4)\n",
    "print(read)\n",
    "f.close()"
   ]
  },
  {
   "cell_type": "code",
   "execution_count": 16,
   "id": "5ca35169",
   "metadata": {},
   "outputs": [
    {
     "name": "stdout",
     "output_type": "stream",
     "text": [
      "rn java Programming\n",
      "Learn C Programming\n"
     ]
    }
   ],
   "source": [
    "#to change current position we use seek() method\n",
    "f=open(\"sample.txt\", \"r\")\n",
    "f.seek(3)\n",
    "read=f.read()\n",
    "print(read)\n",
    "f.close()"
   ]
  },
  {
   "cell_type": "code",
   "execution_count": 17,
   "id": "098ddccf",
   "metadata": {},
   "outputs": [
    {
     "name": "stdout",
     "output_type": "stream",
     "text": [
      "Lear\n",
      "4\n"
     ]
    }
   ],
   "source": [
    "#to get the current position we use tell()\n",
    "f=open(\"sample.txt\", \"r\")\n",
    "read=f.readline(4)\n",
    "print(read)\n",
    "pos=f.tell()\n",
    "print(pos)\n",
    "f.close()"
   ]
  },
  {
   "cell_type": "code",
   "execution_count": 19,
   "id": "93e975c7",
   "metadata": {},
   "outputs": [
    {
     "name": "stdout",
     "output_type": "stream",
     "text": [
      "[(0, 'Fri'), (1, 'Wed'), (2, 'Tue'), (3, 'Mon'), (4, 'Thu')]\n"
     ]
    }
   ],
   "source": [
    "#enumerate - method adds counter to the iterable\n",
    "days={'Mon','Tue','Wed','Thu','Fri'}\n",
    "enum_days=enumerate(days)\n",
    "#print(type(enum_days))\n",
    "print(list(enum_days))"
   ]
  },
  {
   "cell_type": "code",
   "execution_count": 24,
   "id": "b6ef386e",
   "metadata": {},
   "outputs": [
    {
     "name": "stdout",
     "output_type": "stream",
     "text": [
      "[(5, 'Fri'), (6, 'Wed'), (7, 'Tue'), (8, 'Mon'), (9, 'Thu')]\n"
     ]
    }
   ],
   "source": [
    "enum_days1=enumerate(days,5)\n",
    "print(list(enum_days1))"
   ]
  },
  {
   "cell_type": "code",
   "execution_count": 25,
   "id": "133762f4",
   "metadata": {},
   "outputs": [
    {
     "name": "stdout",
     "output_type": "stream",
     "text": [
      "(0, 'Fri')\n",
      "(1, 'Wed')\n",
      "(2, 'Tue')\n",
      "(3, 'Mon')\n",
      "(4, 'Thu')\n"
     ]
    }
   ],
   "source": [
    "days={'Mon','Tue','Wed','Thu','Fri'}\n",
    "for enum_days in enumerate(days):\n",
    "    print(enum_days) "
   ]
  },
  {
   "cell_type": "code",
   "execution_count": 26,
   "id": "46a1166b",
   "metadata": {},
   "outputs": [
    {
     "data": {
      "text/plain": [
       "15"
      ]
     },
     "execution_count": 26,
     "metadata": {},
     "output_type": "execute_result"
    }
   ],
   "source": [
    "#number of characters(including space)\n",
    "f=open(\"hai.txt\",\"w\")\n",
    "f.write(\"my name is arun\")"
   ]
  },
  {
   "cell_type": "code",
   "execution_count": null,
   "id": "c3d3700a",
   "metadata": {},
   "outputs": [],
   "source": []
  }
 ],
 "metadata": {
  "kernelspec": {
   "display_name": "Python 3 (ipykernel)",
   "language": "python",
   "name": "python3"
  },
  "language_info": {
   "codemirror_mode": {
    "name": "ipython",
    "version": 3
   },
   "file_extension": ".py",
   "mimetype": "text/x-python",
   "name": "python",
   "nbconvert_exporter": "python",
   "pygments_lexer": "ipython3",
   "version": "3.9.13"
  }
 },
 "nbformat": 4,
 "nbformat_minor": 5
}
