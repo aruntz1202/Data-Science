{
 "cells": [
  {
   "cell_type": "code",
   "execution_count": 14,
   "id": "fe943686",
   "metadata": {},
   "outputs": [],
   "source": [
    "import cv2\n",
    "from matplotlib import pyplot as plt\n",
    "img=cv2.imread(r\"C:\\Users\\arunf\\OneDrive\\Documents\\Data Science\\AI\\messi.jpg\")\n",
    "cv2.imshow('DE HOPZ',img)\n",
    "cv2.waitKey()\n",
    "cv2.destroyAllWindows()"
   ]
  },
  {
   "cell_type": "code",
   "execution_count": 10,
   "id": "ad76ee29",
   "metadata": {},
   "outputs": [],
   "source": [
    "import cv2\n",
    "import numpy as np\n",
    "from matplotlib import pyplot as plt\n",
    "img=cv2.imread(r\"C:\\Users\\arunf\\OneDrive\\Documents\\Data Science\\AI\\messi.jpg\")\n",
    "blur=cv2.blur(img,(3,3))\n",
    "cv2.imshow('blurring',blur)\n",
    "cv2.waitKey()\n",
    "cv2.destroyAllWindows()"
   ]
  },
  {
   "cell_type": "code",
   "execution_count": 11,
   "id": "c462f248",
   "metadata": {},
   "outputs": [],
   "source": [
    "import cv2\n",
    "from matplotlib import pyplot as plt\n",
    "img=cv2.imread(r\"C:\\Users\\arunf\\OneDrive\\Documents\\Data Science\\AI\\messi.jpg\")\n",
    "g=cv2.GaussianBlur(img,(7,7),0)\n",
    "cv2.imshow('Gaussian blurring',g)\n",
    "cv2.waitKey()\n",
    "cv2.destroyAllWindows()"
   ]
  },
  {
   "cell_type": "code",
   "execution_count": 12,
   "id": "30baf51b",
   "metadata": {},
   "outputs": [],
   "source": [
    "import cv2\n",
    "from matplotlib import pyplot as plt\n",
    "img=cv2.imread(r\"C:\\Users\\arunf\\OneDrive\\Documents\\Data Science\\AI\\messi.jpg\")\n",
    "m=cv2.medianBlur(img,3)\n",
    "cv2.imshow('median blurring',m)\n",
    "cv2.waitKey()\n",
    "cv2.destroyAllWindows()"
   ]
  },
  {
   "cell_type": "code",
   "execution_count": 13,
   "id": "12e4a99b",
   "metadata": {},
   "outputs": [],
   "source": [
    "import cv2\n",
    "from matplotlib import pyplot as plt\n",
    "img=cv2.imread(r\"C:\\Users\\arunf\\OneDrive\\Documents\\Data Science\\AI\\messi.jpg\")\n",
    "blur=cv2.bilateralFilter(img,7,75,75)\n",
    "cv2.imshow('bilateral filter',blur)\n",
    "cv2.waitKey()\n",
    "cv2.destroyAllWindows()"
   ]
  },
  {
   "cell_type": "code",
   "execution_count": null,
   "id": "3af13330",
   "metadata": {},
   "outputs": [],
   "source": []
  }
 ],
 "metadata": {
  "kernelspec": {
   "display_name": "Python 3 (ipykernel)",
   "language": "python",
   "name": "python3"
  },
  "language_info": {
   "codemirror_mode": {
    "name": "ipython",
    "version": 3
   },
   "file_extension": ".py",
   "mimetype": "text/x-python",
   "name": "python",
   "nbconvert_exporter": "python",
   "pygments_lexer": "ipython3",
   "version": "3.9.13"
  }
 },
 "nbformat": 4,
 "nbformat_minor": 5
}
