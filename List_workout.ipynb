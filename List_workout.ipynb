{
 "cells": [
  {
   "cell_type": "code",
   "execution_count": 4,
   "id": "61f76f81",
   "metadata": {},
   "outputs": [
    {
     "name": "stdout",
     "output_type": "stream",
     "text": [
      "element exist\n"
     ]
    }
   ],
   "source": [
    "#check if element exist in list\n",
    "a=[1,2,3,4,5]\n",
    "if 5 in a:\n",
    "    print(\"element exist\")\n",
    "else:\n",
    "    print(\"element not exist\")"
   ]
  },
  {
   "cell_type": "code",
   "execution_count": 12,
   "id": "f945d048",
   "metadata": {},
   "outputs": [
    {
     "name": "stdout",
     "output_type": "stream",
     "text": [
      "[]\n"
     ]
    }
   ],
   "source": [
    "#clear a list in python\n",
    "a=[1,2,3,4,5]\n",
    "a.clear()\n",
    "print(a)"
   ]
  },
  {
   "cell_type": "code",
   "execution_count": 13,
   "id": "cfa5e234",
   "metadata": {},
   "outputs": [
    {
     "name": "stdout",
     "output_type": "stream",
     "text": [
      "6\n"
     ]
    }
   ],
   "source": [
    "#length of list\n",
    "a=[1,2,3,4,5,6]\n",
    "print(len(a))"
   ]
  },
  {
   "cell_type": "code",
   "execution_count": 14,
   "id": "4e83fe9a",
   "metadata": {},
   "outputs": [
    {
     "name": "stdout",
     "output_type": "stream",
     "text": [
      "120\n"
     ]
    }
   ],
   "source": [
    "#multiply all numbers in the list\n",
    "a=[1,2,3,4,5]\n",
    "mul=1\n",
    "    mul=mul*i\n",
    "print(mul)"
   ]
  },
  {
   "cell_type": "code",
   "execution_count": 15,
   "id": "e3eb6e92",
   "metadata": {},
   "outputs": [
    {
     "name": "stdout",
     "output_type": "stream",
     "text": [
      "2\n"
     ]
    }
   ],
   "source": [
    "#smallest number in a list\n",
    "a=[2,4,6,8]\n",
    "print(min(a))"
   ]
  },
  {
   "cell_type": "code",
   "execution_count": 16,
   "id": "43c133c2",
   "metadata": {},
   "outputs": [
    {
     "name": "stdout",
     "output_type": "stream",
     "text": [
      "8\n"
     ]
    }
   ],
   "source": [
    "#largest number in a list\n",
    "a=[2,4,6,8]\n",
    "print(max(a))"
   ]
  },
  {
   "cell_type": "code",
   "execution_count": 17,
   "id": "bd3c7119",
   "metadata": {},
   "outputs": [
    {
     "name": "stdout",
     "output_type": "stream",
     "text": [
      "8\n"
     ]
    }
   ],
   "source": [
    "#print second last element in the list\n",
    "a=[1,2,3,4,5,6,7,8,9]\n",
    "print(a[-2])"
   ]
  },
  {
   "cell_type": "code",
   "execution_count": 3,
   "id": "df834bc8",
   "metadata": {},
   "outputs": [
    {
     "name": "stdout",
     "output_type": "stream",
     "text": [
      "[1, 2, 3]\n"
     ]
    }
   ],
   "source": [
    "#print positive numbers in the list\n",
    "a=[-1,-2,-3,0,1,2,3]\n",
    "b=[]\n",
    "for i in a:\n",
    "    if i>0:\n",
    "        b.append(i)\n",
    "print(b)"
   ]
  },
  {
   "cell_type": "code",
   "execution_count": 25,
   "id": "acd67a8f",
   "metadata": {},
   "outputs": [
    {
     "name": "stdout",
     "output_type": "stream",
     "text": [
      "[6, 2, 4, 5, 8, 1, 9, 3, 7]\n"
     ]
    }
   ],
   "source": [
    "#print random numbers in a list\n",
    "import random\n",
    "a=[1,2,3,4,5,6,7,8,9]\n",
    "n=len(a)\n",
    "print(random.sample(a,n))\n"
   ]
  },
  {
   "cell_type": "code",
   "execution_count": 4,
   "id": "8264242f",
   "metadata": {},
   "outputs": [
    {
     "name": "stdout",
     "output_type": "stream",
     "text": [
      "odd sum:  25\n",
      "even sum:  20\n"
     ]
    }
   ],
   "source": [
    "#sum of all even numbers and odd numbers\n",
    "a=[1,2,3,4,5,6,7,8,9]\n",
    "odd=0\n",
    "even=0\n",
    "for i in a:\n",
    "    if i%2!=0:\n",
    "        odd=odd+i\n",
    "    else:\n",
    "        even=even+i\n",
    "print(\"odd sum: \",odd)\n",
    "print(\"even sum: \",even)\n"
   ]
  },
  {
   "cell_type": "code",
   "execution_count": null,
   "id": "8dd585dc",
   "metadata": {},
   "outputs": [],
   "source": []
  }
 ],
 "metadata": {
  "kernelspec": {
   "display_name": "Python 3 (ipykernel)",
   "language": "python",
   "name": "python3"
  },
  "language_info": {
   "codemirror_mode": {
    "name": "ipython",
    "version": 3
   },
   "file_extension": ".py",
   "mimetype": "text/x-python",
   "name": "python",
   "nbconvert_exporter": "python",
   "pygments_lexer": "ipython3",
   "version": "3.9.13"
  }
 },
 "nbformat": 4,
 "nbformat_minor": 5
}
