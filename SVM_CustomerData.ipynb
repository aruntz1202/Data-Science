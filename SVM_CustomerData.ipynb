{
 "cells": [
  {
   "cell_type": "code",
   "execution_count": 23,
   "id": "404f10fd",
   "metadata": {},
   "outputs": [],
   "source": [
    "import numpy as np\n",
    "import pandas as pd\n",
    "from sklearn.model_selection import train_test_split\n",
    "from sklearn.svm import SVC"
   ]
  },
  {
   "cell_type": "code",
   "execution_count": 24,
   "id": "cedd617c",
   "metadata": {},
   "outputs": [],
   "source": [
    "ds=pd.read_csv(r\"C:\\Users\\arunf\\OneDrive\\Documents\\Data Science\\Machine Learning\\DataSet\\customer_data.csv\")"
   ]
  },
  {
   "cell_type": "code",
   "execution_count": 25,
   "id": "58500488",
   "metadata": {},
   "outputs": [
    {
     "data": {
      "text/html": [
       "<div>\n",
       "<style scoped>\n",
       "    .dataframe tbody tr th:only-of-type {\n",
       "        vertical-align: middle;\n",
       "    }\n",
       "\n",
       "    .dataframe tbody tr th {\n",
       "        vertical-align: top;\n",
       "    }\n",
       "\n",
       "    .dataframe thead th {\n",
       "        text-align: right;\n",
       "    }\n",
       "</style>\n",
       "<table border=\"1\" class=\"dataframe\">\n",
       "  <thead>\n",
       "    <tr style=\"text-align: right;\">\n",
       "      <th></th>\n",
       "      <th>label</th>\n",
       "      <th>id</th>\n",
       "      <th>fea_1</th>\n",
       "      <th>fea_2</th>\n",
       "      <th>fea_3</th>\n",
       "      <th>fea_4</th>\n",
       "      <th>fea_5</th>\n",
       "      <th>fea_6</th>\n",
       "      <th>fea_7</th>\n",
       "      <th>fea_8</th>\n",
       "      <th>fea_9</th>\n",
       "      <th>fea_10</th>\n",
       "      <th>fea_11</th>\n",
       "    </tr>\n",
       "  </thead>\n",
       "  <tbody>\n",
       "    <tr>\n",
       "      <th>0</th>\n",
       "      <td>1</td>\n",
       "      <td>54982665</td>\n",
       "      <td>5</td>\n",
       "      <td>1245.5</td>\n",
       "      <td>3</td>\n",
       "      <td>77000.0</td>\n",
       "      <td>2</td>\n",
       "      <td>15</td>\n",
       "      <td>5</td>\n",
       "      <td>109</td>\n",
       "      <td>5</td>\n",
       "      <td>151300</td>\n",
       "      <td>244.948974</td>\n",
       "    </tr>\n",
       "    <tr>\n",
       "      <th>1</th>\n",
       "      <td>0</td>\n",
       "      <td>59004779</td>\n",
       "      <td>4</td>\n",
       "      <td>1277.0</td>\n",
       "      <td>1</td>\n",
       "      <td>113000.0</td>\n",
       "      <td>2</td>\n",
       "      <td>8</td>\n",
       "      <td>-1</td>\n",
       "      <td>100</td>\n",
       "      <td>3</td>\n",
       "      <td>341759</td>\n",
       "      <td>207.173840</td>\n",
       "    </tr>\n",
       "    <tr>\n",
       "      <th>2</th>\n",
       "      <td>0</td>\n",
       "      <td>58990862</td>\n",
       "      <td>7</td>\n",
       "      <td>1298.0</td>\n",
       "      <td>1</td>\n",
       "      <td>110000.0</td>\n",
       "      <td>2</td>\n",
       "      <td>11</td>\n",
       "      <td>-1</td>\n",
       "      <td>101</td>\n",
       "      <td>5</td>\n",
       "      <td>72001</td>\n",
       "      <td>1.000000</td>\n",
       "    </tr>\n",
       "    <tr>\n",
       "      <th>3</th>\n",
       "      <td>1</td>\n",
       "      <td>58995168</td>\n",
       "      <td>7</td>\n",
       "      <td>1335.5</td>\n",
       "      <td>1</td>\n",
       "      <td>151000.0</td>\n",
       "      <td>2</td>\n",
       "      <td>11</td>\n",
       "      <td>5</td>\n",
       "      <td>110</td>\n",
       "      <td>3</td>\n",
       "      <td>60084</td>\n",
       "      <td>1.000000</td>\n",
       "    </tr>\n",
       "    <tr>\n",
       "      <th>4</th>\n",
       "      <td>0</td>\n",
       "      <td>54987320</td>\n",
       "      <td>7</td>\n",
       "      <td>NaN</td>\n",
       "      <td>2</td>\n",
       "      <td>59000.0</td>\n",
       "      <td>2</td>\n",
       "      <td>11</td>\n",
       "      <td>5</td>\n",
       "      <td>108</td>\n",
       "      <td>4</td>\n",
       "      <td>450081</td>\n",
       "      <td>197.403141</td>\n",
       "    </tr>\n",
       "    <tr>\n",
       "      <th>...</th>\n",
       "      <td>...</td>\n",
       "      <td>...</td>\n",
       "      <td>...</td>\n",
       "      <td>...</td>\n",
       "      <td>...</td>\n",
       "      <td>...</td>\n",
       "      <td>...</td>\n",
       "      <td>...</td>\n",
       "      <td>...</td>\n",
       "      <td>...</td>\n",
       "      <td>...</td>\n",
       "      <td>...</td>\n",
       "      <td>...</td>\n",
       "    </tr>\n",
       "    <tr>\n",
       "      <th>1120</th>\n",
       "      <td>0</td>\n",
       "      <td>58988196</td>\n",
       "      <td>5</td>\n",
       "      <td>1289.0</td>\n",
       "      <td>1</td>\n",
       "      <td>173000.0</td>\n",
       "      <td>2</td>\n",
       "      <td>15</td>\n",
       "      <td>5</td>\n",
       "      <td>112</td>\n",
       "      <td>3</td>\n",
       "      <td>350702</td>\n",
       "      <td>200.000000</td>\n",
       "    </tr>\n",
       "    <tr>\n",
       "      <th>1121</th>\n",
       "      <td>0</td>\n",
       "      <td>58987926</td>\n",
       "      <td>5</td>\n",
       "      <td>NaN</td>\n",
       "      <td>2</td>\n",
       "      <td>50000.0</td>\n",
       "      <td>2</td>\n",
       "      <td>15</td>\n",
       "      <td>5</td>\n",
       "      <td>108</td>\n",
       "      <td>4</td>\n",
       "      <td>450000</td>\n",
       "      <td>169.000000</td>\n",
       "    </tr>\n",
       "    <tr>\n",
       "      <th>1122</th>\n",
       "      <td>0</td>\n",
       "      <td>58995381</td>\n",
       "      <td>7</td>\n",
       "      <td>1220.0</td>\n",
       "      <td>3</td>\n",
       "      <td>76000.0</td>\n",
       "      <td>2</td>\n",
       "      <td>11</td>\n",
       "      <td>2</td>\n",
       "      <td>90</td>\n",
       "      <td>5</td>\n",
       "      <td>71002</td>\n",
       "      <td>1.000000</td>\n",
       "    </tr>\n",
       "    <tr>\n",
       "      <th>1123</th>\n",
       "      <td>0</td>\n",
       "      <td>58998054</td>\n",
       "      <td>4</td>\n",
       "      <td>1250.0</td>\n",
       "      <td>3</td>\n",
       "      <td>137000.0</td>\n",
       "      <td>2</td>\n",
       "      <td>8</td>\n",
       "      <td>5</td>\n",
       "      <td>90</td>\n",
       "      <td>5</td>\n",
       "      <td>72000</td>\n",
       "      <td>1.000000</td>\n",
       "    </tr>\n",
       "    <tr>\n",
       "      <th>1124</th>\n",
       "      <td>0</td>\n",
       "      <td>54989781</td>\n",
       "      <td>4</td>\n",
       "      <td>1415.0</td>\n",
       "      <td>3</td>\n",
       "      <td>93000.0</td>\n",
       "      <td>2</td>\n",
       "      <td>8</td>\n",
       "      <td>5</td>\n",
       "      <td>113</td>\n",
       "      <td>4</td>\n",
       "      <td>151300</td>\n",
       "      <td>273.861279</td>\n",
       "    </tr>\n",
       "  </tbody>\n",
       "</table>\n",
       "<p>1125 rows × 13 columns</p>\n",
       "</div>"
      ],
      "text/plain": [
       "      label        id  fea_1   fea_2  fea_3     fea_4  fea_5  fea_6  fea_7  \\\n",
       "0         1  54982665      5  1245.5      3   77000.0      2     15      5   \n",
       "1         0  59004779      4  1277.0      1  113000.0      2      8     -1   \n",
       "2         0  58990862      7  1298.0      1  110000.0      2     11     -1   \n",
       "3         1  58995168      7  1335.5      1  151000.0      2     11      5   \n",
       "4         0  54987320      7     NaN      2   59000.0      2     11      5   \n",
       "...     ...       ...    ...     ...    ...       ...    ...    ...    ...   \n",
       "1120      0  58988196      5  1289.0      1  173000.0      2     15      5   \n",
       "1121      0  58987926      5     NaN      2   50000.0      2     15      5   \n",
       "1122      0  58995381      7  1220.0      3   76000.0      2     11      2   \n",
       "1123      0  58998054      4  1250.0      3  137000.0      2      8      5   \n",
       "1124      0  54989781      4  1415.0      3   93000.0      2      8      5   \n",
       "\n",
       "      fea_8  fea_9  fea_10      fea_11  \n",
       "0       109      5  151300  244.948974  \n",
       "1       100      3  341759  207.173840  \n",
       "2       101      5   72001    1.000000  \n",
       "3       110      3   60084    1.000000  \n",
       "4       108      4  450081  197.403141  \n",
       "...     ...    ...     ...         ...  \n",
       "1120    112      3  350702  200.000000  \n",
       "1121    108      4  450000  169.000000  \n",
       "1122     90      5   71002    1.000000  \n",
       "1123     90      5   72000    1.000000  \n",
       "1124    113      4  151300  273.861279  \n",
       "\n",
       "[1125 rows x 13 columns]"
      ]
     },
     "execution_count": 25,
     "metadata": {},
     "output_type": "execute_result"
    }
   ],
   "source": [
    "ds"
   ]
  },
  {
   "cell_type": "code",
   "execution_count": 26,
   "id": "aa5c649a",
   "metadata": {},
   "outputs": [
    {
     "data": {
      "text/plain": [
       "label       0\n",
       "id          0\n",
       "fea_1       0\n",
       "fea_2     149\n",
       "fea_3       0\n",
       "fea_4       0\n",
       "fea_5       0\n",
       "fea_6       0\n",
       "fea_7       0\n",
       "fea_8       0\n",
       "fea_9       0\n",
       "fea_10      0\n",
       "fea_11      0\n",
       "dtype: int64"
      ]
     },
     "execution_count": 26,
     "metadata": {},
     "output_type": "execute_result"
    }
   ],
   "source": [
    "ds.isnull().sum()"
   ]
  },
  {
   "cell_type": "code",
   "execution_count": 27,
   "id": "8ed2fb3d",
   "metadata": {},
   "outputs": [
    {
     "data": {
      "text/plain": [
       "1283.9113729508197"
      ]
     },
     "execution_count": 27,
     "metadata": {},
     "output_type": "execute_result"
    }
   ],
   "source": [
    "a=ds['fea_2'].mean()\n",
    "a"
   ]
  },
  {
   "cell_type": "code",
   "execution_count": 28,
   "id": "a97e0d71",
   "metadata": {},
   "outputs": [],
   "source": [
    "ds['fea_2']=ds['fea_2'].fillna(a)"
   ]
  },
  {
   "cell_type": "code",
   "execution_count": 29,
   "id": "1159dd4f",
   "metadata": {},
   "outputs": [
    {
     "data": {
      "text/plain": [
       "label     0\n",
       "id        0\n",
       "fea_1     0\n",
       "fea_2     0\n",
       "fea_3     0\n",
       "fea_4     0\n",
       "fea_5     0\n",
       "fea_6     0\n",
       "fea_7     0\n",
       "fea_8     0\n",
       "fea_9     0\n",
       "fea_10    0\n",
       "fea_11    0\n",
       "dtype: int64"
      ]
     },
     "execution_count": 29,
     "metadata": {},
     "output_type": "execute_result"
    }
   ],
   "source": [
    "ds.isnull().sum()"
   ]
  },
  {
   "cell_type": "code",
   "execution_count": 30,
   "id": "011b3458",
   "metadata": {},
   "outputs": [],
   "source": [
    "train,test=train_test_split(ds,test_size=0.2)"
   ]
  },
  {
   "cell_type": "code",
   "execution_count": 31,
   "id": "f5d1228c",
   "metadata": {},
   "outputs": [],
   "source": [
    "trainx=train.iloc[:,2:13]\n",
    "trainy=train.iloc[:,0]\n",
    "testx=test.iloc[:,2:13]\n",
    "testy=test.iloc[:,0]"
   ]
  },
  {
   "cell_type": "code",
   "execution_count": 32,
   "id": "1c84d0fc",
   "metadata": {},
   "outputs": [
    {
     "data": {
      "text/html": [
       "<div>\n",
       "<style scoped>\n",
       "    .dataframe tbody tr th:only-of-type {\n",
       "        vertical-align: middle;\n",
       "    }\n",
       "\n",
       "    .dataframe tbody tr th {\n",
       "        vertical-align: top;\n",
       "    }\n",
       "\n",
       "    .dataframe thead th {\n",
       "        text-align: right;\n",
       "    }\n",
       "</style>\n",
       "<table border=\"1\" class=\"dataframe\">\n",
       "  <thead>\n",
       "    <tr style=\"text-align: right;\">\n",
       "      <th></th>\n",
       "      <th>fea_1</th>\n",
       "      <th>fea_2</th>\n",
       "      <th>fea_3</th>\n",
       "      <th>fea_4</th>\n",
       "      <th>fea_5</th>\n",
       "      <th>fea_6</th>\n",
       "      <th>fea_7</th>\n",
       "      <th>fea_8</th>\n",
       "      <th>fea_9</th>\n",
       "      <th>fea_10</th>\n",
       "      <th>fea_11</th>\n",
       "    </tr>\n",
       "  </thead>\n",
       "  <tbody>\n",
       "    <tr>\n",
       "      <th>1018</th>\n",
       "      <td>7</td>\n",
       "      <td>1244.000000</td>\n",
       "      <td>3</td>\n",
       "      <td>84000.0</td>\n",
       "      <td>2</td>\n",
       "      <td>11</td>\n",
       "      <td>5</td>\n",
       "      <td>108</td>\n",
       "      <td>4</td>\n",
       "      <td>72000</td>\n",
       "      <td>1.000000</td>\n",
       "    </tr>\n",
       "    <tr>\n",
       "      <th>190</th>\n",
       "      <td>5</td>\n",
       "      <td>1283.911373</td>\n",
       "      <td>3</td>\n",
       "      <td>94000.0</td>\n",
       "      <td>2</td>\n",
       "      <td>15</td>\n",
       "      <td>5</td>\n",
       "      <td>113</td>\n",
       "      <td>4</td>\n",
       "      <td>60057</td>\n",
       "      <td>193.636257</td>\n",
       "    </tr>\n",
       "    <tr>\n",
       "      <th>1032</th>\n",
       "      <td>7</td>\n",
       "      <td>1287.500000</td>\n",
       "      <td>1</td>\n",
       "      <td>119000.0</td>\n",
       "      <td>2</td>\n",
       "      <td>11</td>\n",
       "      <td>5</td>\n",
       "      <td>85</td>\n",
       "      <td>5</td>\n",
       "      <td>60031</td>\n",
       "      <td>187.082869</td>\n",
       "    </tr>\n",
       "    <tr>\n",
       "      <th>840</th>\n",
       "      <td>4</td>\n",
       "      <td>1302.500000</td>\n",
       "      <td>3</td>\n",
       "      <td>410000.0</td>\n",
       "      <td>2</td>\n",
       "      <td>8</td>\n",
       "      <td>9</td>\n",
       "      <td>84</td>\n",
       "      <td>5</td>\n",
       "      <td>60018</td>\n",
       "      <td>1.000000</td>\n",
       "    </tr>\n",
       "    <tr>\n",
       "      <th>1008</th>\n",
       "      <td>4</td>\n",
       "      <td>1290.500000</td>\n",
       "      <td>3</td>\n",
       "      <td>130000.0</td>\n",
       "      <td>2</td>\n",
       "      <td>8</td>\n",
       "      <td>9</td>\n",
       "      <td>114</td>\n",
       "      <td>4</td>\n",
       "      <td>60053</td>\n",
       "      <td>1.000000</td>\n",
       "    </tr>\n",
       "    <tr>\n",
       "      <th>...</th>\n",
       "      <td>...</td>\n",
       "      <td>...</td>\n",
       "      <td>...</td>\n",
       "      <td>...</td>\n",
       "      <td>...</td>\n",
       "      <td>...</td>\n",
       "      <td>...</td>\n",
       "      <td>...</td>\n",
       "      <td>...</td>\n",
       "      <td>...</td>\n",
       "      <td>...</td>\n",
       "    </tr>\n",
       "    <tr>\n",
       "      <th>880</th>\n",
       "      <td>4</td>\n",
       "      <td>1283.911373</td>\n",
       "      <td>2</td>\n",
       "      <td>65000.0</td>\n",
       "      <td>2</td>\n",
       "      <td>8</td>\n",
       "      <td>9</td>\n",
       "      <td>112</td>\n",
       "      <td>5</td>\n",
       "      <td>72001</td>\n",
       "      <td>206.661559</td>\n",
       "    </tr>\n",
       "    <tr>\n",
       "      <th>1059</th>\n",
       "      <td>7</td>\n",
       "      <td>1304.000000</td>\n",
       "      <td>1</td>\n",
       "      <td>111000.0</td>\n",
       "      <td>2</td>\n",
       "      <td>11</td>\n",
       "      <td>9</td>\n",
       "      <td>113</td>\n",
       "      <td>4</td>\n",
       "      <td>151300</td>\n",
       "      <td>1.000000</td>\n",
       "    </tr>\n",
       "    <tr>\n",
       "      <th>729</th>\n",
       "      <td>7</td>\n",
       "      <td>1275.500000</td>\n",
       "      <td>3</td>\n",
       "      <td>90000.0</td>\n",
       "      <td>2</td>\n",
       "      <td>11</td>\n",
       "      <td>5</td>\n",
       "      <td>110</td>\n",
       "      <td>4</td>\n",
       "      <td>450015</td>\n",
       "      <td>212.132034</td>\n",
       "    </tr>\n",
       "    <tr>\n",
       "      <th>368</th>\n",
       "      <td>7</td>\n",
       "      <td>1323.500000</td>\n",
       "      <td>1</td>\n",
       "      <td>152000.0</td>\n",
       "      <td>2</td>\n",
       "      <td>11</td>\n",
       "      <td>5</td>\n",
       "      <td>98</td>\n",
       "      <td>5</td>\n",
       "      <td>151008</td>\n",
       "      <td>1.000000</td>\n",
       "    </tr>\n",
       "    <tr>\n",
       "      <th>874</th>\n",
       "      <td>4</td>\n",
       "      <td>1337.000000</td>\n",
       "      <td>3</td>\n",
       "      <td>410000.0</td>\n",
       "      <td>2</td>\n",
       "      <td>8</td>\n",
       "      <td>5</td>\n",
       "      <td>83</td>\n",
       "      <td>5</td>\n",
       "      <td>60091</td>\n",
       "      <td>1.000000</td>\n",
       "    </tr>\n",
       "  </tbody>\n",
       "</table>\n",
       "<p>900 rows × 11 columns</p>\n",
       "</div>"
      ],
      "text/plain": [
       "      fea_1        fea_2  fea_3     fea_4  fea_5  fea_6  fea_7  fea_8  fea_9  \\\n",
       "1018      7  1244.000000      3   84000.0      2     11      5    108      4   \n",
       "190       5  1283.911373      3   94000.0      2     15      5    113      4   \n",
       "1032      7  1287.500000      1  119000.0      2     11      5     85      5   \n",
       "840       4  1302.500000      3  410000.0      2      8      9     84      5   \n",
       "1008      4  1290.500000      3  130000.0      2      8      9    114      4   \n",
       "...     ...          ...    ...       ...    ...    ...    ...    ...    ...   \n",
       "880       4  1283.911373      2   65000.0      2      8      9    112      5   \n",
       "1059      7  1304.000000      1  111000.0      2     11      9    113      4   \n",
       "729       7  1275.500000      3   90000.0      2     11      5    110      4   \n",
       "368       7  1323.500000      1  152000.0      2     11      5     98      5   \n",
       "874       4  1337.000000      3  410000.0      2      8      5     83      5   \n",
       "\n",
       "      fea_10      fea_11  \n",
       "1018   72000    1.000000  \n",
       "190    60057  193.636257  \n",
       "1032   60031  187.082869  \n",
       "840    60018    1.000000  \n",
       "1008   60053    1.000000  \n",
       "...      ...         ...  \n",
       "880    72001  206.661559  \n",
       "1059  151300    1.000000  \n",
       "729   450015  212.132034  \n",
       "368   151008    1.000000  \n",
       "874    60091    1.000000  \n",
       "\n",
       "[900 rows x 11 columns]"
      ]
     },
     "execution_count": 32,
     "metadata": {},
     "output_type": "execute_result"
    }
   ],
   "source": [
    "trainx"
   ]
  },
  {
   "cell_type": "code",
   "execution_count": 33,
   "id": "b2ca06c3",
   "metadata": {},
   "outputs": [
    {
     "data": {
      "text/plain": [
       "1018    0\n",
       "190     0\n",
       "1032    0\n",
       "840     0\n",
       "1008    0\n",
       "       ..\n",
       "880     0\n",
       "1059    0\n",
       "729     0\n",
       "368     1\n",
       "874     0\n",
       "Name: label, Length: 900, dtype: int64"
      ]
     },
     "execution_count": 33,
     "metadata": {},
     "output_type": "execute_result"
    }
   ],
   "source": [
    "trainy"
   ]
  },
  {
   "cell_type": "code",
   "execution_count": 34,
   "id": "3322c3e3",
   "metadata": {},
   "outputs": [],
   "source": [
    "svm_l=SVC(kernel='linear')"
   ]
  },
  {
   "cell_type": "code",
   "execution_count": 35,
   "id": "394531f6",
   "metadata": {},
   "outputs": [],
   "source": [
    "pred_l=svm_l.fit(trainx,trainy).predict(testx)\n",
    "acc_l=np.mean(pred_l==testy.values.flatten())"
   ]
  },
  {
   "cell_type": "code",
   "execution_count": 36,
   "id": "fc0b392e",
   "metadata": {},
   "outputs": [
    {
     "data": {
      "text/plain": [
       "0.8622222222222222"
      ]
     },
     "execution_count": 36,
     "metadata": {},
     "output_type": "execute_result"
    }
   ],
   "source": [
    "acc_l"
   ]
  },
  {
   "cell_type": "code",
   "execution_count": 37,
   "id": "f42a94fc",
   "metadata": {},
   "outputs": [],
   "source": [
    "svm_p=SVC(kernel='poly')"
   ]
  },
  {
   "cell_type": "code",
   "execution_count": 38,
   "id": "cb82da3a",
   "metadata": {},
   "outputs": [],
   "source": [
    "pred_p=svm_p.fit(trainx,trainy).predict(testx)\n",
    "acc_p=np.mean(pred_p==testy.values.flatten())"
   ]
  },
  {
   "cell_type": "code",
   "execution_count": 39,
   "id": "976e038c",
   "metadata": {},
   "outputs": [
    {
     "data": {
      "text/plain": [
       "0.8666666666666667"
      ]
     },
     "execution_count": 39,
     "metadata": {},
     "output_type": "execute_result"
    }
   ],
   "source": [
    "acc_p"
   ]
  },
  {
   "cell_type": "code",
   "execution_count": 40,
   "id": "6722ae4f",
   "metadata": {},
   "outputs": [],
   "source": [
    "svm_rbf=SVC(kernel='rbf')"
   ]
  },
  {
   "cell_type": "code",
   "execution_count": 41,
   "id": "f24c4b0d",
   "metadata": {},
   "outputs": [],
   "source": [
    "pred_rbf=svm_rbf.fit(trainx,trainy).predict(testx)\n",
    "acc_rbf=np.mean(pred_rbf==testy.values.flatten())"
   ]
  },
  {
   "cell_type": "code",
   "execution_count": 42,
   "id": "0c93904a",
   "metadata": {},
   "outputs": [
    {
     "data": {
      "text/plain": [
       "0.8666666666666667"
      ]
     },
     "execution_count": 42,
     "metadata": {},
     "output_type": "execute_result"
    }
   ],
   "source": [
    "acc_rbf"
   ]
  },
  {
   "cell_type": "code",
   "execution_count": 43,
   "id": "9e7239c6",
   "metadata": {},
   "outputs": [],
   "source": [
    "svm_s=SVC(kernel='sigmoid')"
   ]
  },
  {
   "cell_type": "code",
   "execution_count": 44,
   "id": "3002954f",
   "metadata": {},
   "outputs": [],
   "source": [
    "pred_s=svm_s.fit(trainx,trainy).predict(testx)\n",
    "acc_s=np.mean(pred_s==testy.values.flatten())"
   ]
  },
  {
   "cell_type": "code",
   "execution_count": 45,
   "id": "6fe3552e",
   "metadata": {},
   "outputs": [
    {
     "data": {
      "text/plain": [
       "0.7733333333333333"
      ]
     },
     "execution_count": 45,
     "metadata": {},
     "output_type": "execute_result"
    }
   ],
   "source": [
    "acc_s"
   ]
  },
  {
   "cell_type": "code",
   "execution_count": null,
   "id": "b354d2ae",
   "metadata": {},
   "outputs": [],
   "source": []
  }
 ],
 "metadata": {
  "kernelspec": {
   "display_name": "Python 3 (ipykernel)",
   "language": "python",
   "name": "python3"
  },
  "language_info": {
   "codemirror_mode": {
    "name": "ipython",
    "version": 3
   },
   "file_extension": ".py",
   "mimetype": "text/x-python",
   "name": "python",
   "nbconvert_exporter": "python",
   "pygments_lexer": "ipython3",
   "version": "3.9.13"
  }
 },
 "nbformat": 4,
 "nbformat_minor": 5
}
