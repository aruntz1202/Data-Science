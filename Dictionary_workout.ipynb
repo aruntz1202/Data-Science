{
 "cells": [
  {
   "cell_type": "code",
   "execution_count": 1,
   "id": "f4a81c35",
   "metadata": {},
   "outputs": [
    {
     "name": "stdout",
     "output_type": "stream",
     "text": [
      "{5: 2, 3: 5, 1: 10, 4: 15, 2: 20}\n"
     ]
    }
   ],
   "source": [
    "#sort a dictionary by values\n",
    "a={1:10,2:20,3:5,4:15,5:2}\n",
    "sorted_dict=sorted(a.items(),key=lambda x:x[1])\n",
    "dict1=dict(sorted_dict)\n",
    "print(dict1)"
   ]
  },
  {
   "cell_type": "code",
   "execution_count": 2,
   "id": "9ba06313",
   "metadata": {},
   "outputs": [
    {
     "name": "stdout",
     "output_type": "stream",
     "text": [
      "[1, 2, 5, 7, 10]\n",
      "{5: 1, 1: 2, 3: 5, 2: 7, 4: 10}\n"
     ]
    }
   ],
   "source": [
    "a={1:2,2:7,3:5,4:10,5:1}\n",
    "res={}\n",
    "sa=sorted(a.values())\n",
    "print(sa)\n",
    "for i in sa:\n",
    "    for k in a.keys():\n",
    "        if a[k]==i:\n",
    "            res[k]=a[k]\n",
    "print(res)    "
   ]
  },
  {
   "cell_type": "code",
   "execution_count": 4,
   "id": "03e1724c",
   "metadata": {},
   "outputs": [
    {
     "name": "stdout",
     "output_type": "stream",
     "text": [
      "10\n",
      "20\n",
      "5\n",
      "15\n",
      "{1: 10, 2: 20, 3: 5, 4: 15}\n"
     ]
    }
   ],
   "source": [
    "#remove duplicates from dictionary\n",
    "a={1:10,2:20,3:5,4:15,5:20}\n",
    "b=[]\n",
    "c={}\n",
    "for key,value in a.items():\n",
    "    if value not in b:\n",
    "        print(value)\n",
    "        b.append(value)\n",
    "        c[key]=value\n",
    "print(c)\n",
    "     "
   ]
  },
  {
   "cell_type": "code",
   "execution_count": 4,
   "id": "088e7341",
   "metadata": {},
   "outputs": [
    {
     "name": "stdout",
     "output_type": "stream",
     "text": [
      "2\n",
      "6\n"
     ]
    }
   ],
   "source": [
    "#max and min value in dictionary\n",
    "a={1:2,2:3,3:4,4:5,5:6}\n",
    "values=[]\n",
    "for key,value in a.items():\n",
    "    values.append(value)\n",
    "print(min(values))\n",
    "print(max(values))"
   ]
  },
  {
   "cell_type": "code",
   "execution_count": 5,
   "id": "3feffc77",
   "metadata": {},
   "outputs": [
    {
     "name": "stdout",
     "output_type": "stream",
     "text": [
      "{1: 2, 2: 4, 3: 6, 4: 8, 5: 10}\n"
     ]
    }
   ],
   "source": [
    "#map 2 list in a dictionary\n",
    "a=[1,2,3,4,5]\n",
    "b=[2,4,6,8,10]\n",
    "c=dict(zip(a,b))\n",
    "print(c)"
   ]
  },
  {
   "cell_type": "code",
   "execution_count": 7,
   "id": "8acd8f15",
   "metadata": {},
   "outputs": [
    {
     "name": "stdout",
     "output_type": "stream",
     "text": [
      "48\n"
     ]
    }
   ],
   "source": [
    "#multiply all the items in a dictionary\n",
    "a={1:2,2:4,3:6}\n",
    "mul=1\n",
    "for i in a.values():\n",
    "    mul=mul*i\n",
    "print(mul)"
   ]
  },
  {
   "cell_type": "code",
   "execution_count": 8,
   "id": "16ea7a88",
   "metadata": {},
   "outputs": [
    {
     "name": "stdout",
     "output_type": "stream",
     "text": [
      "{1: 1, 2: 2, 3: 3, 4: 4, 5: 5, 6: 6}\n"
     ]
    }
   ],
   "source": [
    "#merge 2 dictionaries\n",
    "a={1:1,2:2,3:3}\n",
    "b={4:4,5:5,6:6}\n",
    "a.update(b)\n",
    "print(a)"
   ]
  },
  {
   "cell_type": "code",
   "execution_count": 9,
   "id": "1b77c5b6",
   "metadata": {},
   "outputs": [
    {
     "name": "stdout",
     "output_type": "stream",
     "text": [
      "enter the number to check is it a key in dictionary:2\n",
      "2  is a key\n"
     ]
    }
   ],
   "source": [
    "#check wheather a key already exist a dictionary or not\n",
    "n=int(input(\"enter the number to check is it a key in dictionary:\"))\n",
    "a={1:5,2:2,3:3}\n",
    "if n in a.keys():\n",
    "    print(n, \" is a key\")\n",
    "else:\n",
    "    print(n, \"is not a key\")"
   ]
  },
  {
   "cell_type": "code",
   "execution_count": 10,
   "id": "3f94f70a",
   "metadata": {},
   "outputs": [
    {
     "name": "stdout",
     "output_type": "stream",
     "text": [
      "{1: 5, 2: 2, 3: 3, 4: 6, 5: 10}\n"
     ]
    }
   ],
   "source": [
    "#add a key to dictionary\n",
    "a={1:5,2:2,3:3}\n",
    "a[4]=6\n",
    "a[5]=10\n",
    "print(a)"
   ]
  },
  {
   "cell_type": "code",
   "execution_count": 11,
   "id": "665fd376",
   "metadata": {},
   "outputs": [
    {
     "name": "stdout",
     "output_type": "stream",
     "text": [
      "{1: 'arun', 2: 'aju', 3: 'monuttan'}\n"
     ]
    }
   ],
   "source": [
    "#using update method\n",
    "dict1={1:'arun',2:'aju'}\n",
    "dict1.update({3:'monuttan'})\n",
    "print(dict1)"
   ]
  },
  {
   "cell_type": "code",
   "execution_count": 12,
   "id": "f41c380b",
   "metadata": {},
   "outputs": [
    {
     "name": "stdout",
     "output_type": "stream",
     "text": [
      "20\n"
     ]
    }
   ],
   "source": [
    "#sum all the items in a dictionary\n",
    "a={1:2,2:4,3:6,4:8}\n",
    "sum=0\n",
    "for i in a.values():\n",
    "    sum=sum+i\n",
    "print(sum)"
   ]
  },
  {
   "cell_type": "code",
   "execution_count": 13,
   "id": "a6dcdf67",
   "metadata": {},
   "outputs": [
    {
     "name": "stdout",
     "output_type": "stream",
     "text": [
      "{1: 1, 2: 4, 3: 9, 4: 16, 5: 25, 6: 36, 7: 49, 8: 64, 9: 81, 10: 100, 11: 121, 12: 144, 13: 169, 14: 196, 15: 225}\n"
     ]
    }
   ],
   "source": [
    "#keys from 1 to 15 and values are square of keys\n",
    "a=dict()\n",
    "for key in range(1,16):\n",
    "    value=key**2\n",
    "    a[key]=value\n",
    "print(a)\n",
    "    "
   ]
  },
  {
   "cell_type": "code",
   "execution_count": 14,
   "id": "cfbf7c59",
   "metadata": {},
   "outputs": [
    {
     "data": {
      "text/plain": [
       "{'A': '13', ' B': '14', ' C': '29', ' M': '99'}"
      ]
     },
     "execution_count": 14,
     "metadata": {},
     "output_type": "execute_result"
    }
   ],
   "source": [
    "#dictionary from string\n",
    "s = 'A - 13, B - 14, C - 29, M - 99'\n",
    "dict(e.split(' - ') for e in s.split(','))"
   ]
  },
  {
   "cell_type": "code",
   "execution_count": 16,
   "id": "d1b45cc4",
   "metadata": {},
   "outputs": [
    {
     "name": "stdout",
     "output_type": "stream",
     "text": [
      "27\n"
     ]
    }
   ],
   "source": [
    "#Create a Nested Dictionary\n",
    "people = {1: {'name': 'John', 'age': '27', 'sex': 'Male'},\n",
    "          2: {'name': 'Marie', 'age': '22', 'sex': 'Female'},\n",
    "          3: {'name': 'anu', 'age': '34', 'sex': 'Female' }\n",
    "         }\n",
    "\n",
    "print(people[1]['age'])"
   ]
  },
  {
   "cell_type": "code",
   "execution_count": 17,
   "id": "ae33d951",
   "metadata": {},
   "outputs": [
    {
     "name": "stdout",
     "output_type": "stream",
     "text": [
      "{'name': 'Luna', 'age': '24', 'sex': 'Female', 'married': 'No'}\n"
     ]
    }
   ],
   "source": [
    "#Access elements of a Nested Dictionary\n",
    "people = {1: {'name': 'John', 'age': '27', 'sex': 'Male'},\n",
    "          2: {'name': 'Marie', 'age': '22', 'sex': 'Female'}}\n",
    "\n",
    "people[3] = {}\n",
    "\n",
    "people[3]['name'] = 'Luna'\n",
    "people[3]['age'] = '24'\n",
    "people[3]['sex'] = 'Female'\n",
    "people[3]['married'] = 'No'\n",
    "\n",
    "print(people[3])"
   ]
  },
  {
   "cell_type": "code",
   "execution_count": 7,
   "id": "d361f681",
   "metadata": {},
   "outputs": [
    {
     "name": "stdout",
     "output_type": "stream",
     "text": [
      "{1: {'name': 'John', 'age': '27', 'sex': 'Male'}, 2: {'name': 'Marie', 'age': '22', 'sex': 'Female'}, 3: {'name': 'Luna', 'age': '24', 'sex': 'Female', 'married': 'No'}, 4: {'name': 'Peter', 'age': '29', 'sex': 'Male', 'married': 'Yes'}}\n"
     ]
    }
   ],
   "source": [
    "#Add another dictionary to the nested dictionary\n",
    "people = {1: {'name': 'John', 'age': '27', 'sex': 'Male'},\n",
    "          2: {'name': 'Marie', 'age': '22', 'sex': 'Female'},\n",
    "          3: {'name': 'Luna', 'age': '24', 'sex': 'Female', 'married': 'No'}}\n",
    "\n",
    "people[4] = {'name': 'Peter', 'age': '29', 'sex': 'Male', 'married': 'Yes'}\n",
    "print(people)"
   ]
  },
  {
   "cell_type": "code",
   "execution_count": 19,
   "id": "ba4b7966",
   "metadata": {},
   "outputs": [
    {
     "name": "stdout",
     "output_type": "stream",
     "text": [
      "{'name': 'Luna', 'age': '24', 'sex': 'Female'}\n",
      "{'name': 'Peter', 'age': '29', 'sex': 'Male'}\n"
     ]
    }
   ],
   "source": [
    "#Delete elements from a Nested Dictionary\n",
    "people = {1: {'name': 'John', 'age': '27', 'sex': 'Male'},\n",
    "          2: {'name': 'Marie', 'age': '22', 'sex': 'Female'},\n",
    "          3: {'name': 'Luna', 'age': '24', 'sex': 'Female', 'married': 'No'},\n",
    "          4: {'name': 'Peter', 'age': '29', 'sex': 'Male', 'married': 'Yes'}}\n",
    "\n",
    "del people[3]['married']\n",
    "del people[4]['married']\n",
    "\n",
    "print(people[3])\n",
    "print(people[4])"
   ]
  },
  {
   "cell_type": "code",
   "execution_count": 20,
   "id": "98cafd41",
   "metadata": {},
   "outputs": [
    {
     "name": "stdout",
     "output_type": "stream",
     "text": [
      "{1: {'name': 'John', 'age': '27', 'sex': 'Male'}, 2: {'name': 'Marie', 'age': '22', 'sex': 'Female'}}\n"
     ]
    }
   ],
   "source": [
    "#Example 6: How to delete dictionary from a nested dictionary?\n",
    "people = {1: {'name': 'John', 'age': '27', 'sex': 'Male'},\n",
    "          2: {'name': 'Marie', 'age': '22', 'sex': 'Female'},\n",
    "          3: {'name': 'Luna', 'age': '24', 'sex': 'Female'},\n",
    "          4: {'name': 'Peter', 'age': '29', 'sex': 'Male'}}\n",
    "\n",
    "del people[3], people[4]\n",
    "print(people)"
   ]
  },
  {
   "cell_type": "code",
   "execution_count": 21,
   "id": "4ce66a03",
   "metadata": {},
   "outputs": [
    {
     "name": "stdout",
     "output_type": "stream",
     "text": [
      "Person ID: 1\n",
      "name: arun\n",
      "age: 25\n",
      "Person ID: 2\n",
      "name: aju\n",
      "age: 24\n"
     ]
    }
   ],
   "source": [
    "#iterating through nested dictionary\n",
    "people={1:{'name':'arun','age':'25'},\n",
    "        2:{'name':'aju','age':'24'}}\n",
    "for p_id,p_info in people.items():\n",
    "    print(\"Person ID:\",p_id)\n",
    "    for key in p_info:\n",
    "        print(key + ':' ,p_info[key])"
   ]
  },
  {
   "cell_type": "code",
   "execution_count": null,
   "id": "e3afe030",
   "metadata": {},
   "outputs": [],
   "source": []
  }
 ],
 "metadata": {
  "kernelspec": {
   "display_name": "Python 3 (ipykernel)",
   "language": "python",
   "name": "python3"
  },
  "language_info": {
   "codemirror_mode": {
    "name": "ipython",
    "version": 3
   },
   "file_extension": ".py",
   "mimetype": "text/x-python",
   "name": "python",
   "nbconvert_exporter": "python",
   "pygments_lexer": "ipython3",
   "version": "3.9.13"
  }
 },
 "nbformat": 4,
 "nbformat_minor": 5
}
