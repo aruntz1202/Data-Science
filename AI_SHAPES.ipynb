{
 "cells": [
  {
   "cell_type": "code",
   "execution_count": 4,
   "id": "b58035af",
   "metadata": {},
   "outputs": [],
   "source": [
    "import cv2\n",
    "import numpy as np\n",
    "canvas = np.zeros((500, 500, 3), dtype=\"uint8\")\n",
    "cv2.rectangle(canvas, (10, 10,),(80, 80),(0,255,0),1)\n",
    "cv2.imshow(\"Canvas\",canvas)\n",
    "cv2.waitKey()\n",
    "cv2.destroyAllWindows()"
   ]
  },
  {
   "cell_type": "code",
   "execution_count": 6,
   "id": "ae19acaf",
   "metadata": {},
   "outputs": [],
   "source": [
    "red=(0,0,255)\n",
    "cv2.line(canvas,(0,1),(500, 500), red,1)\n",
    "cv2.imshow(\"canvas\",canvas)\n",
    "cv2.waitKey()\n",
    "cv2.destroyAllWindows()"
   ]
  },
  {
   "cell_type": "code",
   "execution_count": 7,
   "id": "35411425",
   "metadata": {},
   "outputs": [],
   "source": [
    "cv2.rectangle(canvas, (10,10), (80, 80), (0,255,0), -2)\n",
    "cv2.imshow(\"Canvas\",canvas)\n",
    "cv2.waitKey(0)\n",
    "cv2.destroyAllWindows()"
   ]
  },
  {
   "cell_type": "code",
   "execution_count": 8,
   "id": "5849396f",
   "metadata": {},
   "outputs": [],
   "source": [
    "cv2.rectangle(canvas,(50,200),(200,125), red,-2)\n",
    "cv2.imshow(\"Canvas\", canvas)\n",
    "cv2.waitKey(0)\n",
    "cv2.destroyAllWindows()"
   ]
  },
  {
   "cell_type": "code",
   "execution_count": 9,
   "id": "4dada0a5",
   "metadata": {},
   "outputs": [],
   "source": [
    "blue = (255,0,0)\n",
    "cv2.rectangle(canvas,(200,50),(225, 125), blue, 10)\n",
    "cv2.imshow(\"canvas\",canvas)\n",
    "cv2.waitKey(0)\n",
    "cv2.destroyAllWindows()"
   ]
  },
  {
   "cell_type": "code",
   "execution_count": 10,
   "id": "de0a1853",
   "metadata": {},
   "outputs": [],
   "source": [
    "import numpy as np\n",
    "import cv2\n",
    "my_img = np.zeros((400, 400, 3), dtype = \"uint8\")\n",
    "# creating circle\n",
    "cv2.circle(my_img, (200, 200), 80, (0, 0, 255), -10)\n",
    "cv2.imshow('Window', my_img)\n",
    "cv2.waitKey(0)\n",
    "cv2.destroyAllWindows()"
   ]
  },
  {
   "cell_type": "code",
   "execution_count": 11,
   "id": "582cadd8",
   "metadata": {},
   "outputs": [],
   "source": [
    "import cv2\n",
    "import numpy as np\n",
    "img=np.zeros((600,600,3),dtype='uint8')\n",
    "points = np.array([[155,320],[250,420],[345,50]])\n",
    "pts = points.reshape(-1,1,2)\n",
    "img_poly = cv2.polylines(img, [pts], isClosed=True, color=(255,0,0), thickness = 2)\n",
    "cv2.imshow(\"Polylines\", img_poly)\n",
    "cv2.waitKey(0)\n",
    "cv2.destroyAllWindows()"
   ]
  },
  {
   "cell_type": "code",
   "execution_count": 12,
   "id": "a439eeb3",
   "metadata": {},
   "outputs": [],
   "source": [
    "import cv2\n",
    "import numpy as np\n",
    "img = np.zeros((400, 400, 3), dtype = \"uint8\")\n",
    "window_name = 'img'\n",
    "center_coordinates = (120, 100)\n",
    "axesLength = (100, 50)\n",
    "angle = 30\n",
    "startangle = 0\n",
    "endangle = 360\n",
    "color = (255, 0, 0)\n",
    "thickness = -1\n",
    "image = cv2.ellipse(img, center_coordinates, axesLength, angle,startangle, endangle, color, thickness)\n",
    "\n",
    "cv2.imshow('window_name', image)\n",
    "cv2.waitKey(0)\n",
    "cv2.destroyAllWindows()"
   ]
  },
  {
   "cell_type": "code",
   "execution_count": null,
   "id": "af774799",
   "metadata": {},
   "outputs": [],
   "source": []
  }
 ],
 "metadata": {
  "kernelspec": {
   "display_name": "Python 3 (ipykernel)",
   "language": "python",
   "name": "python3"
  },
  "language_info": {
   "codemirror_mode": {
    "name": "ipython",
    "version": 3
   },
   "file_extension": ".py",
   "mimetype": "text/x-python",
   "name": "python",
   "nbconvert_exporter": "python",
   "pygments_lexer": "ipython3",
   "version": "3.9.13"
  }
 },
 "nbformat": 4,
 "nbformat_minor": 5
}
