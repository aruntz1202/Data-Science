{
 "cells": [
  {
   "cell_type": "code",
   "execution_count": 11,
   "id": "2a1e6a3d",
   "metadata": {},
   "outputs": [
    {
     "name": "stdout",
     "output_type": "stream",
     "text": [
      "(9, 8, 7, 6, 5, 4, 3, 2, 1)\n"
     ]
    }
   ],
   "source": [
    "#reverse a tuple\n",
    "a=(1,2,3,4,5,6,7,8,9)\n",
    "b=a[::-1]\n",
    "print(b)"
   ]
  },
  {
   "cell_type": "code",
   "execution_count": 16,
   "id": "fd5ee038",
   "metadata": {},
   "outputs": [
    {
     "name": "stdout",
     "output_type": "stream",
     "text": [
      "original list:[(1, 'arun'), (2, 'aju'), (3, 'mouttan')]\n",
      "unzip list:[(1, 2, 3), ('arun', 'aju', 'mouttan')]\n"
     ]
    }
   ],
   "source": [
    "#unzip list of tuples to individual list\n",
    "a=[(1,'arun'),(2,'aju'),(3,'mouttan')]\n",
    "print(\"original list:\" + str(a))\n",
    "b=list(zip(*a))\n",
    "print(\"unzip list:\" + str(b))"
   ]
  },
  {
   "cell_type": "code",
   "execution_count": 21,
   "id": "b388527f",
   "metadata": {},
   "outputs": [
    {
     "name": "stdout",
     "output_type": "stream",
     "text": [
      "{1: 10, 2: 20, 3: 30}\n"
     ]
    }
   ],
   "source": [
    "#convert a tuple to dictionary\n",
    "a=((1,10),(2,20),(3,30))\n",
    "d=dict(a)\n",
    "print(d)"
   ]
  },
  {
   "cell_type": "code",
   "execution_count": 3,
   "id": "795f42a8",
   "metadata": {},
   "outputs": [
    {
     "name": "stdout",
     "output_type": "stream",
     "text": [
      "{4: 1, 8: 2}\n"
     ]
    }
   ],
   "source": [
    "a=((1,4),(2,8))\n",
    "b=dict((y,x) for x,y in a)\n",
    "print(b)"
   ]
  },
  {
   "cell_type": "code",
   "execution_count": 22,
   "id": "c4000054",
   "metadata": {},
   "outputs": [
    {
     "name": "stdout",
     "output_type": "stream",
     "text": [
      "7\n"
     ]
    }
   ],
   "source": [
    "#length of tuple\n",
    "a=(1,2,3,4,5,6,7)\n",
    "print(len(a))"
   ]
  },
  {
   "cell_type": "code",
   "execution_count": 26,
   "id": "be6894ee",
   "metadata": {},
   "outputs": [
    {
     "name": "stdout",
     "output_type": "stream",
     "text": [
      "1\n"
     ]
    }
   ],
   "source": [
    "#find index of an item in a tuple\n",
    "a=(1,2,3,4,5)\n",
    "print(a.index(2))"
   ]
  },
  {
   "cell_type": "code",
   "execution_count": 27,
   "id": "4adb8a70",
   "metadata": {},
   "outputs": [
    {
     "name": "stdout",
     "output_type": "stream",
     "text": [
      "(2, 3, 4, 5)\n"
     ]
    }
   ],
   "source": [
    "#slice a tuple\n",
    "a=(1,2,3,4,5,6,7,8,9)\n",
    "print(a[1:5])"
   ]
  },
  {
   "cell_type": "code",
   "execution_count": 31,
   "id": "3108ad06",
   "metadata": {},
   "outputs": [
    {
     "name": "stdout",
     "output_type": "stream",
     "text": [
      "(1, 3, 4, 5)\n"
     ]
    }
   ],
   "source": [
    "#remove an item from tuple\n",
    "a=(1,2,3,4,5)\n",
    "b=list(a)\n",
    "b.remove(2)\n",
    "print(tuple(b))"
   ]
  },
  {
   "cell_type": "code",
   "execution_count": 37,
   "id": "4cf11d1d",
   "metadata": {},
   "outputs": [
    {
     "name": "stdout",
     "output_type": "stream",
     "text": [
      "enter the number:6\n",
      "element doesnot exist\n"
     ]
    }
   ],
   "source": [
    "#check wheather an item present in tuple\n",
    "n=int(input(\"enter the number:\"))\n",
    "a=(1,2,3,4,5)\n",
    "if n in a:\n",
    "    print(\"element exist\")\n",
    "else:\n",
    "    print(\"element doesnot exist\")"
   ]
  },
  {
   "cell_type": "code",
   "execution_count": 39,
   "id": "c10e4de3",
   "metadata": {},
   "outputs": [
    {
     "name": "stdout",
     "output_type": "stream",
     "text": [
      "repeated item: 4\n",
      "[1, 2, 3, 4, 5]\n"
     ]
    }
   ],
   "source": [
    "#find repeated items in a tuple\n",
    "a=(1,2,3,4,5,4)\n",
    "b=list(a)\n",
    "c=[]\n",
    "for i in b:\n",
    "    if i not in c:\n",
    "        c.append(i)\n",
    "    else:\n",
    "        print(\"repeated item:\" ,i)\n",
    "print(c)"
   ]
  },
  {
   "cell_type": "code",
   "execution_count": 42,
   "id": "e3f37984",
   "metadata": {},
   "outputs": [
    {
     "name": "stdout",
     "output_type": "stream",
     "text": [
      "4\n"
     ]
    }
   ],
   "source": [
    "a=(1,2,3,4,5,4)\n",
    "for i in a:\n",
    "    if a.count(i)>1:\n",
    "        print(i)\n",
    "        break;"
   ]
  },
  {
   "cell_type": "code",
   "execution_count": null,
   "id": "3e72463c",
   "metadata": {},
   "outputs": [],
   "source": []
  }
 ],
 "metadata": {
  "kernelspec": {
   "display_name": "Python 3 (ipykernel)",
   "language": "python",
   "name": "python3"
  },
  "language_info": {
   "codemirror_mode": {
    "name": "ipython",
    "version": 3
   },
   "file_extension": ".py",
   "mimetype": "text/x-python",
   "name": "python",
   "nbconvert_exporter": "python",
   "pygments_lexer": "ipython3",
   "version": "3.9.13"
  }
 },
 "nbformat": 4,
 "nbformat_minor": 5
}
